{
 "cells": [
  {
   "cell_type": "code",
   "execution_count": 1,
   "metadata": {},
   "outputs": [],
   "source": [
    "import pandas as pd\n",
    "import numpy as np\n",
    "from sklearn.metrics import accuracy_score\n",
    "from sklearn.model_selection import train_test_split\n",
    "from sklearn.tree import DecisionTreeClassifier\n",
    "#pd.set_option('display.max_rows', None)\n",
    "pd.options.mode.chained_assignment = None\n",
    "%matplotlib inline\n",
    "import matplotlib.pyplot as plt\n",
    "from sklearn import preprocessing\n",
    "from matplotlib import pyplot\n",
    "from numpy import loadtxt\n",
    "from xgboost import XGBClassifier\n",
    "from xgboost import plot_importance\n",
    "import os\n",
    "import graphviz\n",
    "import pydotplus\n",
    "from sklearn import tree"
   ]
  },
  {
   "cell_type": "code",
   "execution_count": 2,
   "metadata": {},
   "outputs": [],
   "source": [
    "os.environ['PATH'] += os.pathsep + r'C:\\Program Files\\graphviz-2.38\\release\\bin'"
   ]
  },
  {
   "cell_type": "code",
   "execution_count": 3,
   "metadata": {},
   "outputs": [],
   "source": [
    "#conda install -c anaconda py-xgboost"
   ]
  },
  {
   "cell_type": "code",
   "execution_count": 4,
   "metadata": {},
   "outputs": [],
   "source": [
    "data = pd.read_csv('./AdultDataset/adult.data')"
   ]
  },
  {
   "cell_type": "code",
   "execution_count": 5,
   "metadata": {},
   "outputs": [
    {
     "data": {
      "text/plain": [
       "Index(['39', ' State-gov', ' 77516', ' Bachelors', ' 13', ' Never-married',\n",
       "       ' Adm-clerical', ' Not-in-family', ' White', ' Male', ' 2174', ' 0',\n",
       "       ' 40', ' United-States', ' <=50K'],\n",
       "      dtype='object')"
      ]
     },
     "execution_count": 5,
     "metadata": {},
     "output_type": "execute_result"
    }
   ],
   "source": [
    "data.columns"
   ]
  },
  {
   "cell_type": "markdown",
   "metadata": {},
   "source": [
    "# Description of the main variables in the dataset\n",
    "\n",
    "\n",
    "1) age: continuous.\n",
    "2) workclass: Private, Self-emp-not-inc, Self-emp-inc, Federal-gov, Local-gov, State-gov, Without-pay, Never-worked.\n",
    "3) fnlwgt: continuous.\n",
    "4) education: Bachelors, Some-college, 11th, HS-grad, Prof-school, Assoc-acdm, Assoc-voc, 9th, 7th-8th, 12th, Masters, 1st-4th, 10th, Doctorate, 5th-6th, Preschool.\n",
    "5) education-num: continuous.\n",
    "6) marital-status: Married-civ-spouse, Divorced, Never-married, Separated, Widowed, Married-spouse-absent, Married-AF-spouse.\n",
    "7) occupation: Tech-support, Craft-repair, Other-service, Sales, Exec-managerial, Prof-specialty, Handlers-cleaners, Machine-op-inspct, Adm-clerical, Farming-fishing, Transport-moving, Priv-house-serv, Protective-serv, Armed-Forces.\n",
    "8) relationship: Wife, Own-child, Husband, Not-in-family, Other-relative, Unmarried.\n",
    "9) race: White, Asian-Pac-Islander, Amer-Indian-Eskimo, Other, Black.\n",
    "10) sex: Female, Male.\n",
    "11) capital-gain: continuous.\n",
    "12) capital-loss: continuous.\n",
    "13) hours-per-week: continuous.\n",
    "14) native-country: United-States, Cambodia, England, Puerto-Rico, Canada, Germany, Outlying-US(Guam-USVI-etc), India, Japan, Greece, South, China, Cuba, Iran, Honduras, Philippines, Italy, Poland, Jamaica, Vietnam, Mexico, Portugal, Ireland, France, Dominican-Republic, Laos, Ecuador, Taiwan, Haiti, Columbia, Hungary, Guatemala, Nicaragua, Scotland, Thailand, Yugoslavia, El-Salvador, Trinadad&Tobago, Peru, Hong, Holand-Netherlands."
   ]
  },
  {
   "cell_type": "markdown",
   "metadata": {},
   "source": [
    "## Below, I insert the columns names"
   ]
  },
  {
   "cell_type": "code",
   "execution_count": 6,
   "metadata": {
    "scrolled": true
   },
   "outputs": [],
   "source": [
    "column_names= ['age',\n",
    "               'workclass',\n",
    "               'fnlwgt',\n",
    "               'education',\n",
    "               'education-num',\n",
    "               'marital-status',\n",
    "               'occupation',\n",
    "               'relationship',\n",
    "               'race',\n",
    "               'sex',\n",
    "               'capital-gain',\n",
    "               'capital-loss',\n",
    "               'hours-per-week',\n",
    "               'native-country',\n",
    "               'Salary'\n",
    "              ]\n",
    "df1 = pd.DataFrame(data.values, columns = column_names )\n"
   ]
  },
  {
   "cell_type": "code",
   "execution_count": 7,
   "metadata": {
    "scrolled": true
   },
   "outputs": [
    {
     "data": {
      "text/html": [
       "<div>\n",
       "<style scoped>\n",
       "    .dataframe tbody tr th:only-of-type {\n",
       "        vertical-align: middle;\n",
       "    }\n",
       "\n",
       "    .dataframe tbody tr th {\n",
       "        vertical-align: top;\n",
       "    }\n",
       "\n",
       "    .dataframe thead th {\n",
       "        text-align: right;\n",
       "    }\n",
       "</style>\n",
       "<table border=\"1\" class=\"dataframe\">\n",
       "  <thead>\n",
       "    <tr style=\"text-align: right;\">\n",
       "      <th></th>\n",
       "      <th>age</th>\n",
       "      <th>workclass</th>\n",
       "      <th>fnlwgt</th>\n",
       "      <th>education</th>\n",
       "      <th>education-num</th>\n",
       "      <th>marital-status</th>\n",
       "      <th>occupation</th>\n",
       "      <th>relationship</th>\n",
       "      <th>race</th>\n",
       "      <th>sex</th>\n",
       "      <th>capital-gain</th>\n",
       "      <th>capital-loss</th>\n",
       "      <th>hours-per-week</th>\n",
       "      <th>native-country</th>\n",
       "      <th>Salary</th>\n",
       "    </tr>\n",
       "  </thead>\n",
       "  <tbody>\n",
       "    <tr>\n",
       "      <td>0</td>\n",
       "      <td>50</td>\n",
       "      <td>Self-emp-not-inc</td>\n",
       "      <td>83311</td>\n",
       "      <td>Bachelors</td>\n",
       "      <td>13</td>\n",
       "      <td>Married-civ-spouse</td>\n",
       "      <td>Exec-managerial</td>\n",
       "      <td>Husband</td>\n",
       "      <td>White</td>\n",
       "      <td>Male</td>\n",
       "      <td>0</td>\n",
       "      <td>0</td>\n",
       "      <td>13</td>\n",
       "      <td>United-States</td>\n",
       "      <td>&lt;=50K</td>\n",
       "    </tr>\n",
       "    <tr>\n",
       "      <td>1</td>\n",
       "      <td>38</td>\n",
       "      <td>Private</td>\n",
       "      <td>215646</td>\n",
       "      <td>HS-grad</td>\n",
       "      <td>9</td>\n",
       "      <td>Divorced</td>\n",
       "      <td>Handlers-cleaners</td>\n",
       "      <td>Not-in-family</td>\n",
       "      <td>White</td>\n",
       "      <td>Male</td>\n",
       "      <td>0</td>\n",
       "      <td>0</td>\n",
       "      <td>40</td>\n",
       "      <td>United-States</td>\n",
       "      <td>&lt;=50K</td>\n",
       "    </tr>\n",
       "    <tr>\n",
       "      <td>2</td>\n",
       "      <td>53</td>\n",
       "      <td>Private</td>\n",
       "      <td>234721</td>\n",
       "      <td>11th</td>\n",
       "      <td>7</td>\n",
       "      <td>Married-civ-spouse</td>\n",
       "      <td>Handlers-cleaners</td>\n",
       "      <td>Husband</td>\n",
       "      <td>Black</td>\n",
       "      <td>Male</td>\n",
       "      <td>0</td>\n",
       "      <td>0</td>\n",
       "      <td>40</td>\n",
       "      <td>United-States</td>\n",
       "      <td>&lt;=50K</td>\n",
       "    </tr>\n",
       "    <tr>\n",
       "      <td>3</td>\n",
       "      <td>28</td>\n",
       "      <td>Private</td>\n",
       "      <td>338409</td>\n",
       "      <td>Bachelors</td>\n",
       "      <td>13</td>\n",
       "      <td>Married-civ-spouse</td>\n",
       "      <td>Prof-specialty</td>\n",
       "      <td>Wife</td>\n",
       "      <td>Black</td>\n",
       "      <td>Female</td>\n",
       "      <td>0</td>\n",
       "      <td>0</td>\n",
       "      <td>40</td>\n",
       "      <td>Cuba</td>\n",
       "      <td>&lt;=50K</td>\n",
       "    </tr>\n",
       "    <tr>\n",
       "      <td>4</td>\n",
       "      <td>37</td>\n",
       "      <td>Private</td>\n",
       "      <td>284582</td>\n",
       "      <td>Masters</td>\n",
       "      <td>14</td>\n",
       "      <td>Married-civ-spouse</td>\n",
       "      <td>Exec-managerial</td>\n",
       "      <td>Wife</td>\n",
       "      <td>White</td>\n",
       "      <td>Female</td>\n",
       "      <td>0</td>\n",
       "      <td>0</td>\n",
       "      <td>40</td>\n",
       "      <td>United-States</td>\n",
       "      <td>&lt;=50K</td>\n",
       "    </tr>\n",
       "  </tbody>\n",
       "</table>\n",
       "</div>"
      ],
      "text/plain": [
       "  age          workclass  fnlwgt   education education-num  \\\n",
       "0  50   Self-emp-not-inc   83311   Bachelors            13   \n",
       "1  38            Private  215646     HS-grad             9   \n",
       "2  53            Private  234721        11th             7   \n",
       "3  28            Private  338409   Bachelors            13   \n",
       "4  37            Private  284582     Masters            14   \n",
       "\n",
       "        marital-status          occupation    relationship    race      sex  \\\n",
       "0   Married-civ-spouse     Exec-managerial         Husband   White     Male   \n",
       "1             Divorced   Handlers-cleaners   Not-in-family   White     Male   \n",
       "2   Married-civ-spouse   Handlers-cleaners         Husband   Black     Male   \n",
       "3   Married-civ-spouse      Prof-specialty            Wife   Black   Female   \n",
       "4   Married-civ-spouse     Exec-managerial            Wife   White   Female   \n",
       "\n",
       "  capital-gain capital-loss hours-per-week  native-country  Salary  \n",
       "0            0            0             13   United-States   <=50K  \n",
       "1            0            0             40   United-States   <=50K  \n",
       "2            0            0             40   United-States   <=50K  \n",
       "3            0            0             40            Cuba   <=50K  \n",
       "4            0            0             40   United-States   <=50K  "
      ]
     },
     "execution_count": 7,
     "metadata": {},
     "output_type": "execute_result"
    }
   ],
   "source": [
    "df1.head()"
   ]
  },
  {
   "cell_type": "markdown",
   "metadata": {},
   "source": [
    "## I remove education num, as It's gives me not additional information compared to Education column"
   ]
  },
  {
   "cell_type": "code",
   "execution_count": 8,
   "metadata": {},
   "outputs": [],
   "source": [
    "del(df1['education-num'])"
   ]
  },
  {
   "cell_type": "code",
   "execution_count": 9,
   "metadata": {},
   "outputs": [
    {
     "data": {
      "text/plain": [
       "Index(['age', 'workclass', 'fnlwgt', 'education', 'marital-status',\n",
       "       'occupation', 'relationship', 'race', 'sex', 'capital-gain',\n",
       "       'capital-loss', 'hours-per-week', 'native-country', 'Salary'],\n",
       "      dtype='object')"
      ]
     },
     "execution_count": 9,
     "metadata": {},
     "output_type": "execute_result"
    }
   ],
   "source": [
    "df1.columns"
   ]
  },
  {
   "cell_type": "code",
   "execution_count": 10,
   "metadata": {
    "scrolled": false
   },
   "outputs": [
    {
     "data": {
      "text/plain": [
       "(32560, 14)"
      ]
     },
     "execution_count": 10,
     "metadata": {},
     "output_type": "execute_result"
    }
   ],
   "source": [
    "df1.shape"
   ]
  },
  {
   "cell_type": "code",
   "execution_count": 11,
   "metadata": {
    "scrolled": true
   },
   "outputs": [
    {
     "data": {
      "text/plain": [
       "age               False\n",
       "workclass         False\n",
       "fnlwgt            False\n",
       "education         False\n",
       "marital-status    False\n",
       "occupation        False\n",
       "relationship      False\n",
       "race              False\n",
       "sex               False\n",
       "capital-gain      False\n",
       "capital-loss      False\n",
       "hours-per-week    False\n",
       "native-country    False\n",
       "Salary            False\n",
       "dtype: bool"
      ]
     },
     "execution_count": 11,
     "metadata": {},
     "output_type": "execute_result"
    }
   ],
   "source": [
    "df1.isnull().any()"
   ]
  },
  {
   "cell_type": "code",
   "execution_count": 12,
   "metadata": {},
   "outputs": [],
   "source": [
    "toBeStrip=['workclass','education','marital-status','occupation',\n",
    "           'relationship','race','sex','native-country','Salary']\n",
    "for elem in toBeStrip:\n",
    "    df1[elem]=df1[elem].str.strip()"
   ]
  },
  {
   "cell_type": "markdown",
   "metadata": {},
   "source": [
    "# Studying Single attributes"
   ]
  },
  {
   "cell_type": "code",
   "execution_count": 13,
   "metadata": {},
   "outputs": [
    {
     "data": {
      "text/plain": [
       "Index(['age', 'workclass', 'fnlwgt', 'education', 'marital-status',\n",
       "       'occupation', 'relationship', 'race', 'sex', 'capital-gain',\n",
       "       'capital-loss', 'hours-per-week', 'native-country', 'Salary'],\n",
       "      dtype='object')"
      ]
     },
     "execution_count": 13,
     "metadata": {},
     "output_type": "execute_result"
    }
   ],
   "source": [
    "df1.columns"
   ]
  },
  {
   "cell_type": "markdown",
   "metadata": {},
   "source": [
    "## Age"
   ]
  },
  {
   "cell_type": "code",
   "execution_count": 14,
   "metadata": {
    "scrolled": true
   },
   "outputs": [
    {
     "name": "stdout",
     "output_type": "stream",
     "text": [
      "The Minimum Age is:  17 ; The maximum age is:  90 ; The average age is:  38.581633906633904 ; The mode age is:  0    36\n",
      "dtype: object\n"
     ]
    }
   ],
   "source": [
    "print(\"The Minimum Age is: \", df1['age'].min(),\";\", \n",
    "      \"The maximum age is: \", df1['age'].max(),\";\",\n",
    "      \"The average age is: \", df1['age'].mean(),\";\",\n",
    "      \"The mode age is: \", df1['age'].mode())"
   ]
  },
  {
   "cell_type": "code",
   "execution_count": 15,
   "metadata": {},
   "outputs": [
    {
     "data": {
      "text/plain": [
       "age               False\n",
       "workclass         False\n",
       "fnlwgt            False\n",
       "education         False\n",
       "marital-status    False\n",
       "occupation        False\n",
       "relationship      False\n",
       "race              False\n",
       "sex               False\n",
       "capital-gain      False\n",
       "capital-loss      False\n",
       "hours-per-week    False\n",
       "native-country    False\n",
       "Salary            False\n",
       "dtype: bool"
      ]
     },
     "execution_count": 15,
     "metadata": {},
     "output_type": "execute_result"
    }
   ],
   "source": [
    "df1[df1['age']=='?'].any()"
   ]
  },
  {
   "cell_type": "code",
   "execution_count": 16,
   "metadata": {
    "scrolled": true
   },
   "outputs": [],
   "source": [
    "from collections import Counter\n",
    "l=[]\n",
    "for elem in df1['age']:\n",
    "    l.append(elem)\n",
    "#Counter(l)"
   ]
  },
  {
   "cell_type": "markdown",
   "metadata": {},
   "source": [
    "* I can create 4-5 variable for the attribute Age: <20; >20<40; >40<60; >60<80; >80"
   ]
  },
  {
   "cell_type": "markdown",
   "metadata": {},
   "source": [
    "## workclass"
   ]
  },
  {
   "cell_type": "code",
   "execution_count": 17,
   "metadata": {
    "scrolled": true
   },
   "outputs": [
    {
     "data": {
      "text/plain": [
       "Private             22696\n",
       "Self-emp-not-inc     2541\n",
       "Local-gov            2093\n",
       "?                    1836\n",
       "State-gov            1297\n",
       "Self-emp-inc         1116\n",
       "Federal-gov           960\n",
       "Without-pay            14\n",
       "Never-worked            7\n",
       "Name: workclass, dtype: int64"
      ]
     },
     "execution_count": 17,
     "metadata": {},
     "output_type": "execute_result"
    }
   ],
   "source": [
    "df1['workclass'].value_counts()"
   ]
  },
  {
   "cell_type": "code",
   "execution_count": 18,
   "metadata": {
    "scrolled": true
   },
   "outputs": [
    {
     "data": {
      "text/plain": [
       "age               True\n",
       "workclass         True\n",
       "fnlwgt            True\n",
       "education         True\n",
       "marital-status    True\n",
       "occupation        True\n",
       "relationship      True\n",
       "race              True\n",
       "sex               True\n",
       "capital-gain      True\n",
       "capital-loss      True\n",
       "hours-per-week    True\n",
       "native-country    True\n",
       "Salary            True\n",
       "dtype: bool"
      ]
     },
     "execution_count": 18,
     "metadata": {},
     "output_type": "execute_result"
    }
   ],
   "source": [
    "df1[df1['workclass']=='?'].any()"
   ]
  },
  {
   "cell_type": "markdown",
   "metadata": {},
   "source": [
    "* What can I do with \"Without pay\" and \"Never Worked?\" Moreover I have to remove rows with \"?\""
   ]
  },
  {
   "cell_type": "markdown",
   "metadata": {},
   "source": [
    "## Education"
   ]
  },
  {
   "cell_type": "code",
   "execution_count": 19,
   "metadata": {
    "scrolled": false
   },
   "outputs": [
    {
     "data": {
      "text/plain": [
       "HS-grad         10501\n",
       "Some-college     7291\n",
       "Bachelors        5354\n",
       "Masters          1723\n",
       "Assoc-voc        1382\n",
       "11th             1175\n",
       "Assoc-acdm       1067\n",
       "10th              933\n",
       "7th-8th           646\n",
       "Prof-school       576\n",
       "9th               514\n",
       "12th              433\n",
       "Doctorate         413\n",
       "5th-6th           333\n",
       "1st-4th           168\n",
       "Preschool          51\n",
       "Name: education, dtype: int64"
      ]
     },
     "execution_count": 19,
     "metadata": {},
     "output_type": "execute_result"
    }
   ],
   "source": [
    "df1['education'].value_counts()"
   ]
  },
  {
   "cell_type": "markdown",
   "metadata": {},
   "source": [
    "* It has to be reduced the number of levels of instruction classes\n"
   ]
  },
  {
   "cell_type": "code",
   "execution_count": 20,
   "metadata": {},
   "outputs": [
    {
     "data": {
      "text/plain": [
       "age               False\n",
       "workclass         False\n",
       "fnlwgt            False\n",
       "education         False\n",
       "marital-status    False\n",
       "occupation        False\n",
       "relationship      False\n",
       "race              False\n",
       "sex               False\n",
       "capital-gain      False\n",
       "capital-loss      False\n",
       "hours-per-week    False\n",
       "native-country    False\n",
       "Salary            False\n",
       "dtype: bool"
      ]
     },
     "execution_count": 20,
     "metadata": {},
     "output_type": "execute_result"
    }
   ],
   "source": [
    "df1[df1['education']=='?'].any()"
   ]
  },
  {
   "cell_type": "markdown",
   "metadata": {},
   "source": [
    "## Marital Status"
   ]
  },
  {
   "cell_type": "code",
   "execution_count": 21,
   "metadata": {
    "scrolled": true
   },
   "outputs": [
    {
     "data": {
      "text/plain": [
       "Married-civ-spouse       14976\n",
       "Never-married            10682\n",
       "Divorced                  4443\n",
       "Separated                 1025\n",
       "Widowed                    993\n",
       "Married-spouse-absent      418\n",
       "Married-AF-spouse           23\n",
       "Name: marital-status, dtype: int64"
      ]
     },
     "execution_count": 21,
     "metadata": {},
     "output_type": "execute_result"
    }
   ],
   "source": [
    "df1['marital-status'].value_counts()"
   ]
  },
  {
   "cell_type": "markdown",
   "metadata": {},
   "source": [
    "* Should I eliminate \"married spouse absent\" and \"married af spouse?\""
   ]
  },
  {
   "cell_type": "code",
   "execution_count": 22,
   "metadata": {},
   "outputs": [
    {
     "data": {
      "text/plain": [
       "age               False\n",
       "workclass         False\n",
       "fnlwgt            False\n",
       "education         False\n",
       "marital-status    False\n",
       "occupation        False\n",
       "relationship      False\n",
       "race              False\n",
       "sex               False\n",
       "capital-gain      False\n",
       "capital-loss      False\n",
       "hours-per-week    False\n",
       "native-country    False\n",
       "Salary            False\n",
       "dtype: bool"
      ]
     },
     "execution_count": 22,
     "metadata": {},
     "output_type": "execute_result"
    }
   ],
   "source": [
    "df1[df1['marital-status']=='?'].any()"
   ]
  },
  {
   "cell_type": "markdown",
   "metadata": {},
   "source": [
    "## Occupation"
   ]
  },
  {
   "cell_type": "code",
   "execution_count": 23,
   "metadata": {},
   "outputs": [
    {
     "data": {
      "text/plain": [
       "Prof-specialty       4140\n",
       "Craft-repair         4099\n",
       "Exec-managerial      4066\n",
       "Adm-clerical         3769\n",
       "Sales                3650\n",
       "Other-service        3295\n",
       "Machine-op-inspct    2002\n",
       "?                    1843\n",
       "Transport-moving     1597\n",
       "Handlers-cleaners    1370\n",
       "Farming-fishing       994\n",
       "Tech-support          928\n",
       "Protective-serv       649\n",
       "Priv-house-serv       149\n",
       "Armed-Forces            9\n",
       "Name: occupation, dtype: int64"
      ]
     },
     "execution_count": 23,
     "metadata": {},
     "output_type": "execute_result"
    }
   ],
   "source": [
    "df1['occupation'].value_counts()"
   ]
  },
  {
   "cell_type": "code",
   "execution_count": 24,
   "metadata": {},
   "outputs": [
    {
     "data": {
      "text/plain": [
       "15"
      ]
     },
     "execution_count": 24,
     "metadata": {},
     "output_type": "execute_result"
    }
   ],
   "source": [
    "df1['occupation'].value_counts().shape[0]"
   ]
  },
  {
   "cell_type": "markdown",
   "metadata": {},
   "source": [
    "* I can remove \"Armed-Forces\" and \"?\""
   ]
  },
  {
   "cell_type": "code",
   "execution_count": 25,
   "metadata": {},
   "outputs": [
    {
     "data": {
      "text/plain": [
       "age               True\n",
       "workclass         True\n",
       "fnlwgt            True\n",
       "education         True\n",
       "marital-status    True\n",
       "occupation        True\n",
       "relationship      True\n",
       "race              True\n",
       "sex               True\n",
       "capital-gain      True\n",
       "capital-loss      True\n",
       "hours-per-week    True\n",
       "native-country    True\n",
       "Salary            True\n",
       "dtype: bool"
      ]
     },
     "execution_count": 25,
     "metadata": {},
     "output_type": "execute_result"
    }
   ],
   "source": [
    "df1[df1['occupation']=='?'].any()"
   ]
  },
  {
   "cell_type": "markdown",
   "metadata": {},
   "source": [
    "## relationship"
   ]
  },
  {
   "cell_type": "code",
   "execution_count": 26,
   "metadata": {
    "scrolled": false
   },
   "outputs": [
    {
     "data": {
      "text/plain": [
       "Husband           13193\n",
       "Not-in-family      8304\n",
       "Own-child          5068\n",
       "Unmarried          3446\n",
       "Wife               1568\n",
       "Other-relative      981\n",
       "Name: relationship, dtype: int64"
      ]
     },
     "execution_count": 26,
     "metadata": {},
     "output_type": "execute_result"
    }
   ],
   "source": [
    "df1['relationship'].value_counts()"
   ]
  },
  {
   "cell_type": "code",
   "execution_count": 27,
   "metadata": {},
   "outputs": [
    {
     "data": {
      "text/plain": [
       "age               False\n",
       "workclass         False\n",
       "fnlwgt            False\n",
       "education         False\n",
       "marital-status    False\n",
       "occupation        False\n",
       "relationship      False\n",
       "race              False\n",
       "sex               False\n",
       "capital-gain      False\n",
       "capital-loss      False\n",
       "hours-per-week    False\n",
       "native-country    False\n",
       "Salary            False\n",
       "dtype: bool"
      ]
     },
     "execution_count": 27,
     "metadata": {},
     "output_type": "execute_result"
    }
   ],
   "source": [
    "df1[df1['relationship']=='?'].any()"
   ]
  },
  {
   "cell_type": "code",
   "execution_count": 28,
   "metadata": {},
   "outputs": [
    {
     "data": {
      "image/png": "[encoded data removed]",
      "text/plain": [
       "<Figure size 720x360 with 1 Axes>"
      ]
     },
     "metadata": {
      "needs_background": "light"
     },
     "output_type": "display_data"
    }
   ],
   "source": [
    "RelationshipPlot=df1['relationship'].sort_values().value_counts().plot.bar(figsize=(10,5),x='Value', title=\"Relationship Plot\")"
   ]
  },
  {
   "cell_type": "markdown",
   "metadata": {},
   "source": [
    "## race"
   ]
  },
  {
   "cell_type": "code",
   "execution_count": 29,
   "metadata": {
    "scrolled": true
   },
   "outputs": [
    {
     "data": {
      "text/plain": [
       "White                 27815\n",
       "Black                  3124\n",
       "Asian-Pac-Islander     1039\n",
       "Amer-Indian-Eskimo      311\n",
       "Other                   271\n",
       "Name: race, dtype: int64"
      ]
     },
     "execution_count": 29,
     "metadata": {},
     "output_type": "execute_result"
    }
   ],
   "source": [
    "df1['race'].value_counts()"
   ]
  },
  {
   "cell_type": "code",
   "execution_count": 30,
   "metadata": {
    "scrolled": true
   },
   "outputs": [
    {
     "data": {
      "text/plain": [
       "age               False\n",
       "workclass         False\n",
       "fnlwgt            False\n",
       "education         False\n",
       "marital-status    False\n",
       "occupation        False\n",
       "relationship      False\n",
       "race              False\n",
       "sex               False\n",
       "capital-gain      False\n",
       "capital-loss      False\n",
       "hours-per-week    False\n",
       "native-country    False\n",
       "Salary            False\n",
       "dtype: bool"
      ]
     },
     "execution_count": 30,
     "metadata": {},
     "output_type": "execute_result"
    }
   ],
   "source": [
    "df1[df1['race']=='?'].any()"
   ]
  },
  {
   "cell_type": "code",
   "execution_count": 31,
   "metadata": {},
   "outputs": [
    {
     "data": {
      "image/png": "[encoded data removed]",
      "text/plain": [
       "<Figure size 720x360 with 1 Axes>"
      ]
     },
     "metadata": {
      "needs_background": "light"
     },
     "output_type": "display_data"
    }
   ],
   "source": [
    "RacePlot=df1['race'].sort_values().value_counts().plot.bar(figsize=(10,5),x='Value', title=\"Race Plot\")"
   ]
  },
  {
   "cell_type": "markdown",
   "metadata": {},
   "source": [
    "## Sex"
   ]
  },
  {
   "cell_type": "code",
   "execution_count": 32,
   "metadata": {
    "scrolled": false
   },
   "outputs": [
    {
     "data": {
      "text/plain": [
       "Male      21789\n",
       "Female    10771\n",
       "Name: sex, dtype: int64"
      ]
     },
     "execution_count": 32,
     "metadata": {},
     "output_type": "execute_result"
    }
   ],
   "source": [
    "df1['sex'].value_counts()"
   ]
  },
  {
   "cell_type": "code",
   "execution_count": 33,
   "metadata": {
    "scrolled": true
   },
   "outputs": [
    {
     "data": {
      "text/plain": [
       "age               False\n",
       "workclass         False\n",
       "fnlwgt            False\n",
       "education         False\n",
       "marital-status    False\n",
       "occupation        False\n",
       "relationship      False\n",
       "race              False\n",
       "sex               False\n",
       "capital-gain      False\n",
       "capital-loss      False\n",
       "hours-per-week    False\n",
       "native-country    False\n",
       "Salary            False\n",
       "dtype: bool"
      ]
     },
     "execution_count": 33,
     "metadata": {},
     "output_type": "execute_result"
    }
   ],
   "source": [
    "df1[df1['sex']=='?'].any()"
   ]
  },
  {
   "cell_type": "code",
   "execution_count": 34,
   "metadata": {},
   "outputs": [
    {
     "data": {
      "image/png": "[encoded data removed]",
      "text/plain": [
       "<Figure size 720x360 with 1 Axes>"
      ]
     },
     "metadata": {
      "needs_background": "light"
     },
     "output_type": "display_data"
    }
   ],
   "source": [
    "SexPlot=df1['sex'].sort_values().value_counts().plot.bar(figsize=(10,5),x='Value', title=\"Sex Plot\")"
   ]
  },
  {
   "cell_type": "markdown",
   "metadata": {},
   "source": [
    "## capital-gain & Capital loss\n"
   ]
  },
  {
   "cell_type": "code",
   "execution_count": 35,
   "metadata": {},
   "outputs": [
    {
     "data": {
      "text/plain": [
       "0        29849\n",
       "15024      347\n",
       "7688       284\n",
       "7298       246\n",
       "99999      159\n",
       "Name: capital-gain, dtype: int64"
      ]
     },
     "execution_count": 35,
     "metadata": {},
     "output_type": "execute_result"
    }
   ],
   "source": [
    "df1['capital-gain'].value_counts()[:5]"
   ]
  },
  {
   "cell_type": "code",
   "execution_count": 36,
   "metadata": {
    "scrolled": true
   },
   "outputs": [
    {
     "data": {
      "text/plain": [
       "0       31041\n",
       "1902      202\n",
       "1977      168\n",
       "1887      159\n",
       "1485       51\n",
       "Name: capital-loss, dtype: int64"
      ]
     },
     "execution_count": 36,
     "metadata": {},
     "output_type": "execute_result"
    }
   ],
   "source": [
    "df1['capital-loss'].value_counts()[:5]"
   ]
  },
  {
   "cell_type": "code",
   "execution_count": 37,
   "metadata": {},
   "outputs": [
    {
     "data": {
      "text/plain": [
       "31041"
      ]
     },
     "execution_count": 37,
     "metadata": {},
     "output_type": "execute_result"
    }
   ],
   "source": [
    "df1[df1['capital-loss']==0].shape[0]"
   ]
  },
  {
   "cell_type": "code",
   "execution_count": 38,
   "metadata": {},
   "outputs": [
    {
     "data": {
      "text/plain": [
       "29849"
      ]
     },
     "execution_count": 38,
     "metadata": {},
     "output_type": "execute_result"
    }
   ],
   "source": [
    "df1[df1['capital-gain']==0].shape[0]"
   ]
  },
  {
   "cell_type": "markdown",
   "metadata": {},
   "source": [
    "* Probably Both to be removed"
   ]
  },
  {
   "cell_type": "markdown",
   "metadata": {},
   "source": [
    "## hours-per-week"
   ]
  },
  {
   "cell_type": "code",
   "execution_count": 39,
   "metadata": {},
   "outputs": [
    {
     "data": {
      "text/plain": [
       "40    15216\n",
       "50     2819\n",
       "45     1824\n",
       "60     1475\n",
       "35     1297\n",
       "Name: hours-per-week, dtype: int64"
      ]
     },
     "execution_count": 39,
     "metadata": {},
     "output_type": "execute_result"
    }
   ],
   "source": [
    "df1['hours-per-week'].value_counts()[:5]"
   ]
  },
  {
   "cell_type": "code",
   "execution_count": 40,
   "metadata": {},
   "outputs": [
    {
     "data": {
      "text/plain": [
       "1"
      ]
     },
     "execution_count": 40,
     "metadata": {},
     "output_type": "execute_result"
    }
   ],
   "source": [
    "df1['hours-per-week'].min()"
   ]
  },
  {
   "cell_type": "code",
   "execution_count": 41,
   "metadata": {},
   "outputs": [
    {
     "data": {
      "text/plain": [
       "99"
      ]
     },
     "execution_count": 41,
     "metadata": {},
     "output_type": "execute_result"
    }
   ],
   "source": [
    "df1['hours-per-week'].max()"
   ]
  },
  {
   "cell_type": "code",
   "execution_count": 42,
   "metadata": {},
   "outputs": [
    {
     "data": {
      "text/plain": [
       "40.437469287469284"
      ]
     },
     "execution_count": 42,
     "metadata": {},
     "output_type": "execute_result"
    }
   ],
   "source": [
    "df1['hours-per-week'].mean()"
   ]
  },
  {
   "cell_type": "code",
   "execution_count": 43,
   "metadata": {},
   "outputs": [
    {
     "data": {
      "text/plain": [
       "0    40\n",
       "dtype: object"
      ]
     },
     "execution_count": 43,
     "metadata": {},
     "output_type": "execute_result"
    }
   ],
   "source": [
    "df1['hours-per-week'].mode()"
   ]
  },
  {
   "cell_type": "markdown",
   "metadata": {},
   "source": [
    "* This variable has to be arranged"
   ]
  },
  {
   "cell_type": "code",
   "execution_count": 44,
   "metadata": {
    "scrolled": false
   },
   "outputs": [
    {
     "data": {
      "text/plain": [
       "age               False\n",
       "workclass         False\n",
       "fnlwgt            False\n",
       "education         False\n",
       "marital-status    False\n",
       "occupation        False\n",
       "relationship      False\n",
       "race              False\n",
       "sex               False\n",
       "capital-gain      False\n",
       "capital-loss      False\n",
       "hours-per-week    False\n",
       "native-country    False\n",
       "Salary            False\n",
       "dtype: bool"
      ]
     },
     "execution_count": 44,
     "metadata": {},
     "output_type": "execute_result"
    }
   ],
   "source": [
    "df1[df1['hours-per-week']=='?'].any()"
   ]
  },
  {
   "cell_type": "markdown",
   "metadata": {},
   "source": [
    "## Native-Country"
   ]
  },
  {
   "cell_type": "code",
   "execution_count": 45,
   "metadata": {
    "scrolled": true
   },
   "outputs": [
    {
     "data": {
      "text/plain": [
       "United-States    29169\n",
       "Mexico             643\n",
       "?                  583\n",
       "Philippines        198\n",
       "Germany            137\n",
       "Canada             121\n",
       "Puerto-Rico        114\n",
       "El-Salvador        106\n",
       "India              100\n",
       "Cuba                95\n",
       "Name: native-country, dtype: int64"
      ]
     },
     "execution_count": 45,
     "metadata": {},
     "output_type": "execute_result"
    }
   ],
   "source": [
    "df1['native-country'].value_counts()[:10]"
   ]
  },
  {
   "cell_type": "markdown",
   "metadata": {},
   "source": [
    "* Devo creare variabile others"
   ]
  },
  {
   "cell_type": "code",
   "execution_count": 46,
   "metadata": {},
   "outputs": [
    {
     "data": {
      "text/plain": [
       "age               True\n",
       "workclass         True\n",
       "fnlwgt            True\n",
       "education         True\n",
       "marital-status    True\n",
       "occupation        True\n",
       "relationship      True\n",
       "race              True\n",
       "sex               True\n",
       "capital-gain      True\n",
       "capital-loss      True\n",
       "hours-per-week    True\n",
       "native-country    True\n",
       "Salary            True\n",
       "dtype: bool"
      ]
     },
     "execution_count": 46,
     "metadata": {},
     "output_type": "execute_result"
    }
   ],
   "source": [
    "df1[df1['native-country']=='?'].any()"
   ]
  },
  {
   "cell_type": "markdown",
   "metadata": {},
   "source": [
    "## Salary"
   ]
  },
  {
   "cell_type": "code",
   "execution_count": 47,
   "metadata": {},
   "outputs": [
    {
     "data": {
      "text/plain": [
       "<=50K    24719\n",
       ">50K      7841\n",
       "Name: Salary, dtype: int64"
      ]
     },
     "execution_count": 47,
     "metadata": {},
     "output_type": "execute_result"
    }
   ],
   "source": [
    "df1['Salary'].value_counts()"
   ]
  },
  {
   "cell_type": "code",
   "execution_count": 48,
   "metadata": {
    "scrolled": true
   },
   "outputs": [
    {
     "data": {
      "text/plain": [
       "age               False\n",
       "workclass         False\n",
       "fnlwgt            False\n",
       "education         False\n",
       "marital-status    False\n",
       "occupation        False\n",
       "relationship      False\n",
       "race              False\n",
       "sex               False\n",
       "capital-gain      False\n",
       "capital-loss      False\n",
       "hours-per-week    False\n",
       "native-country    False\n",
       "Salary            False\n",
       "dtype: bool"
      ]
     },
     "execution_count": 48,
     "metadata": {},
     "output_type": "execute_result"
    }
   ],
   "source": [
    "df1[df1['Salary']=='?'].any()"
   ]
  },
  {
   "cell_type": "code",
   "execution_count": 49,
   "metadata": {},
   "outputs": [
    {
     "data": {
      "image/png": "[encoded data removed]",
      "text/plain": [
       "<Figure size 720x360 with 1 Axes>"
      ]
     },
     "metadata": {
      "needs_background": "light"
     },
     "output_type": "display_data"
    }
   ],
   "source": [
    "SalaryPlot=df1['Salary'].sort_values().value_counts().plot.bar(figsize=(10,5),x='Value', title=\"Salary Plot\")"
   ]
  },
  {
   "cell_type": "markdown",
   "metadata": {},
   "source": [
    "### ------------------------------------------------------------------------------------------------------------\n",
    "### ------------------------------------------------------------------------------------------------------------"
   ]
  },
  {
   "cell_type": "markdown",
   "metadata": {},
   "source": [
    "# To do"
   ]
  },
  {
   "cell_type": "markdown",
   "metadata": {},
   "source": [
    "## 1. Convert Unknown to \"?\" and eliminate it"
   ]
  },
  {
   "cell_type": "code",
   "execution_count": 50,
   "metadata": {},
   "outputs": [
    {
     "name": "stdout",
     "output_type": "stream",
     "text": [
      "32560\n"
     ]
    }
   ],
   "source": [
    "beforeRows = df1.shape[0]\n",
    "print(beforeRows)"
   ]
  },
  {
   "cell_type": "markdown",
   "metadata": {},
   "source": [
    "# I eliminate all the rows in which there is at least a missing value in a certain attribute"
   ]
  },
  {
   "cell_type": "markdown",
   "metadata": {},
   "source": [
    "### Thanks to the prior analysis i know that missing values are in theese three instances: 1) workclass; 2) occupation; 3) native-country"
   ]
  },
  {
   "cell_type": "markdown",
   "metadata": {},
   "source": [
    "## First Filter"
   ]
  },
  {
   "cell_type": "code",
   "execution_count": 51,
   "metadata": {},
   "outputs": [],
   "source": [
    "df1=df1[df1['workclass']!=\"?\"]"
   ]
  },
  {
   "cell_type": "code",
   "execution_count": 52,
   "metadata": {},
   "outputs": [
    {
     "data": {
      "text/plain": [
       "(30724, 14)"
      ]
     },
     "execution_count": 52,
     "metadata": {},
     "output_type": "execute_result"
    }
   ],
   "source": [
    "df1.shape"
   ]
  },
  {
   "cell_type": "markdown",
   "metadata": {},
   "source": [
    "## Second Filter"
   ]
  },
  {
   "cell_type": "code",
   "execution_count": 53,
   "metadata": {},
   "outputs": [
    {
     "data": {
      "text/plain": [
       "age                True\n",
       "workclass          True\n",
       "fnlwgt             True\n",
       "education          True\n",
       "marital-status     True\n",
       "occupation         True\n",
       "relationship       True\n",
       "race               True\n",
       "sex                True\n",
       "capital-gain      False\n",
       "capital-loss      False\n",
       "hours-per-week     True\n",
       "native-country     True\n",
       "Salary             True\n",
       "dtype: bool"
      ]
     },
     "execution_count": 53,
     "metadata": {},
     "output_type": "execute_result"
    }
   ],
   "source": [
    "df1[df1['occupation']=='?'].any()"
   ]
  },
  {
   "cell_type": "code",
   "execution_count": 54,
   "metadata": {},
   "outputs": [],
   "source": [
    "df1=df1[df1['occupation']!=\"?\"]"
   ]
  },
  {
   "cell_type": "code",
   "execution_count": 55,
   "metadata": {
    "scrolled": true
   },
   "outputs": [
    {
     "data": {
      "text/plain": [
       "(30717, 14)"
      ]
     },
     "execution_count": 55,
     "metadata": {},
     "output_type": "execute_result"
    }
   ],
   "source": [
    "df1.shape"
   ]
  },
  {
   "cell_type": "markdown",
   "metadata": {},
   "source": [
    "## Third Filter"
   ]
  },
  {
   "cell_type": "code",
   "execution_count": 56,
   "metadata": {},
   "outputs": [],
   "source": [
    "df1=df1[df1['native-country']!=\"?\"]"
   ]
  },
  {
   "cell_type": "code",
   "execution_count": 57,
   "metadata": {},
   "outputs": [
    {
     "data": {
      "text/plain": [
       "(30161, 14)"
      ]
     },
     "execution_count": 57,
     "metadata": {},
     "output_type": "execute_result"
    }
   ],
   "source": [
    "df1.shape"
   ]
  },
  {
   "cell_type": "markdown",
   "metadata": {},
   "source": [
    "## Here the remaining columns"
   ]
  },
  {
   "cell_type": "code",
   "execution_count": 58,
   "metadata": {},
   "outputs": [
    {
     "name": "stdout",
     "output_type": "stream",
     "text": [
      "30161\n"
     ]
    }
   ],
   "source": [
    "afterRows = df1.shape[0]\n",
    "print(afterRows)"
   ]
  },
  {
   "cell_type": "markdown",
   "metadata": {},
   "source": [
    "<p style=\"font-family: Arial; font-size:1.75em;color:purple; font-style:bold\"><br>\n",
    "\n",
    "How many rows dropped due to cleaning?<br><br></p>\n"
   ]
  },
  {
   "cell_type": "code",
   "execution_count": 59,
   "metadata": {},
   "outputs": [
    {
     "data": {
      "text/plain": [
       "2399"
      ]
     },
     "execution_count": 59,
     "metadata": {},
     "output_type": "execute_result"
    }
   ],
   "source": [
    "beforeRows - afterRows"
   ]
  },
  {
   "cell_type": "code",
   "execution_count": 60,
   "metadata": {},
   "outputs": [
    {
     "data": {
      "text/html": [
       "<div>\n",
       "<style scoped>\n",
       "    .dataframe tbody tr th:only-of-type {\n",
       "        vertical-align: middle;\n",
       "    }\n",
       "\n",
       "    .dataframe tbody tr th {\n",
       "        vertical-align: top;\n",
       "    }\n",
       "\n",
       "    .dataframe thead th {\n",
       "        text-align: right;\n",
       "    }\n",
       "</style>\n",
       "<table border=\"1\" class=\"dataframe\">\n",
       "  <thead>\n",
       "    <tr style=\"text-align: right;\">\n",
       "      <th></th>\n",
       "      <th>age</th>\n",
       "      <th>workclass</th>\n",
       "      <th>fnlwgt</th>\n",
       "      <th>education</th>\n",
       "      <th>marital-status</th>\n",
       "      <th>occupation</th>\n",
       "      <th>relationship</th>\n",
       "      <th>race</th>\n",
       "      <th>sex</th>\n",
       "      <th>capital-gain</th>\n",
       "      <th>capital-loss</th>\n",
       "      <th>hours-per-week</th>\n",
       "      <th>native-country</th>\n",
       "      <th>Salary</th>\n",
       "    </tr>\n",
       "  </thead>\n",
       "  <tbody>\n",
       "    <tr>\n",
       "      <td>0</td>\n",
       "      <td>50</td>\n",
       "      <td>Self-emp-not-inc</td>\n",
       "      <td>83311</td>\n",
       "      <td>Bachelors</td>\n",
       "      <td>Married-civ-spouse</td>\n",
       "      <td>Exec-managerial</td>\n",
       "      <td>Husband</td>\n",
       "      <td>White</td>\n",
       "      <td>Male</td>\n",
       "      <td>0</td>\n",
       "      <td>0</td>\n",
       "      <td>13</td>\n",
       "      <td>United-States</td>\n",
       "      <td>&lt;=50K</td>\n",
       "    </tr>\n",
       "  </tbody>\n",
       "</table>\n",
       "</div>"
      ],
      "text/plain": [
       "  age         workclass fnlwgt  education      marital-status  \\\n",
       "0  50  Self-emp-not-inc  83311  Bachelors  Married-civ-spouse   \n",
       "\n",
       "        occupation relationship   race   sex capital-gain capital-loss  \\\n",
       "0  Exec-managerial      Husband  White  Male            0            0   \n",
       "\n",
       "  hours-per-week native-country Salary  \n",
       "0             13  United-States  <=50K  "
      ]
     },
     "execution_count": 60,
     "metadata": {},
     "output_type": "execute_result"
    }
   ],
   "source": [
    "df1[:1]"
   ]
  },
  {
   "cell_type": "markdown",
   "metadata": {},
   "source": [
    "# Generic code to make discrete all the cotinuous variables"
   ]
  },
  {
   "cell_type": "markdown",
   "metadata": {},
   "source": [
    "### Age"
   ]
  },
  {
   "cell_type": "code",
   "execution_count": 61,
   "metadata": {},
   "outputs": [],
   "source": [
    "l_age=[]\n",
    "for elem in df1['age']:\n",
    "    if elem <20:\n",
    "        l_age.append('<20')\n",
    "    elif elem >20 and elem <40:\n",
    "        l_age.append('>20 & <40')\n",
    "    elif elem >40 and elem <60:\n",
    "        l_age.append('>40 & <60')\n",
    "    elif elem >60 and elem <80:\n",
    "        l_age.append('>60 & <80')\n",
    "    else:\n",
    "        l_age.append('>80')"
   ]
  },
  {
   "cell_type": "code",
   "execution_count": 62,
   "metadata": {},
   "outputs": [],
   "source": [
    "df1['l_age']=l_age"
   ]
  },
  {
   "cell_type": "code",
   "execution_count": 63,
   "metadata": {},
   "outputs": [
    {
     "data": {
      "image/png": "[encoded data removed]",
      "text/plain": [
       "<Figure size 720x216 with 1 Axes>"
      ]
     },
     "metadata": {
      "needs_background": "light"
     },
     "output_type": "display_data"
    }
   ],
   "source": [
    "AgePlot=df1['age'].sort_values().value_counts()[:50].plot.bar(figsize=(10,3),x='Value', title=\"Age\")"
   ]
  },
  {
   "cell_type": "code",
   "execution_count": 64,
   "metadata": {},
   "outputs": [
    {
     "data": {
      "image/png": "[encoded data removed]",
      "text/plain": [
       "<Figure size 720x216 with 1 Axes>"
      ]
     },
     "metadata": {
      "needs_background": "light"
     },
     "output_type": "display_data"
    }
   ],
   "source": [
    "AgePlot=df1['l_age'].sort_values().value_counts().plot.bar(figsize=(10,3),x='Value', title=\"Age\")\n",
    "plt.xticks(rotation=45)\n",
    "plt.show()"
   ]
  },
  {
   "cell_type": "markdown",
   "metadata": {},
   "source": [
    "### Workclass"
   ]
  },
  {
   "cell_type": "code",
   "execution_count": 65,
   "metadata": {},
   "outputs": [],
   "source": [
    "RemoveLowCountInstancesCond1=df1['workclass']!=\"Never-worked\"\n",
    "RemoveLowCountInstancesCond2=df1['workclass']!=\"Without-pay\""
   ]
  },
  {
   "cell_type": "code",
   "execution_count": 66,
   "metadata": {},
   "outputs": [],
   "source": [
    "df1=df1[RemoveLowCountInstancesCond1 & RemoveLowCountInstancesCond2]"
   ]
  },
  {
   "cell_type": "code",
   "execution_count": 67,
   "metadata": {},
   "outputs": [
    {
     "data": {
      "text/plain": [
       "(30147, 15)"
      ]
     },
     "execution_count": 67,
     "metadata": {},
     "output_type": "execute_result"
    }
   ],
   "source": [
    "df1.shape"
   ]
  },
  {
   "cell_type": "markdown",
   "metadata": {},
   "source": [
    "## Education"
   ]
  },
  {
   "cell_type": "code",
   "execution_count": 68,
   "metadata": {},
   "outputs": [
    {
     "data": {
      "text/plain": [
       "HS-grad         9831\n",
       "Some-college    6675\n",
       "Bachelors       5043\n",
       "Masters         1627\n",
       "Assoc-voc       1307\n",
       "11th            1048\n",
       "Assoc-acdm      1007\n",
       "10th             820\n",
       "7th-8th          556\n",
       "Prof-school      542\n",
       "9th              455\n",
       "12th             377\n",
       "Doctorate        375\n",
       "5th-6th          288\n",
       "1st-4th          151\n",
       "Preschool         45\n",
       "Name: education, dtype: int64"
      ]
     },
     "execution_count": 68,
     "metadata": {},
     "output_type": "execute_result"
    }
   ],
   "source": [
    "df1['education'].value_counts()"
   ]
  },
  {
   "cell_type": "code",
   "execution_count": 69,
   "metadata": {},
   "outputs": [],
   "source": [
    "l_education=[]\n",
    "for elem in df1['education']:\n",
    "    if elem ==\"Preschool\" or elem ==\"1st-4th\"or elem ==\"5th-6th\":\n",
    "        l_education.append(\"Elementary school\")\n",
    "    elif elem ==\"7th-8th\" or  elem ==\"9th\" or elem ==\"10th\" or elem ==\"11th\" or elem ==\"12th\":\n",
    "        l_education.append(\"HS-Grad_NotCompleted\")\n",
    "    elif elem ==\"Assoc-voc\" or elem ==\"Assoc-acdm\":\n",
    "        l_education.append(\"Assoc-acdm_or_Voc\")\n",
    "    else:\n",
    "        l_education.append(elem)"
   ]
  },
  {
   "cell_type": "code",
   "execution_count": 70,
   "metadata": {},
   "outputs": [],
   "source": [
    "df1['l_education']=l_education"
   ]
  },
  {
   "cell_type": "code",
   "execution_count": 71,
   "metadata": {},
   "outputs": [
    {
     "data": {
      "image/png": "[encoded data removed]",
      "text/plain": [
       "<Figure size 1080x360 with 1 Axes>"
      ]
     },
     "metadata": {
      "needs_background": "light"
     },
     "output_type": "display_data"
    }
   ],
   "source": [
    "EducationPlot=df1['l_education'].sort_values().value_counts().plot.bar(figsize=(15,5),x='Value', title=\"Education\", grid=True)"
   ]
  },
  {
   "cell_type": "markdown",
   "metadata": {},
   "source": [
    "## Marital Status"
   ]
  },
  {
   "cell_type": "code",
   "execution_count": 72,
   "metadata": {},
   "outputs": [
    {
     "data": {
      "text/plain": [
       "Married-civ-spouse       14057\n",
       "Never-married             9721\n",
       "Divorced                  4214\n",
       "Separated                  939\n",
       "Widowed                    826\n",
       "Married-spouse-absent      369\n",
       "Married-AF-spouse           21\n",
       "Name: marital-status, dtype: int64"
      ]
     },
     "execution_count": 72,
     "metadata": {},
     "output_type": "execute_result"
    }
   ],
   "source": [
    "df1['marital-status'].value_counts()"
   ]
  },
  {
   "cell_type": "code",
   "execution_count": 73,
   "metadata": {},
   "outputs": [],
   "source": [
    "MaritalStatusToBeRemoved=df1['marital-status']!=\"Married-AF-spouse\""
   ]
  },
  {
   "cell_type": "code",
   "execution_count": 74,
   "metadata": {},
   "outputs": [],
   "source": [
    "df1=df1[MaritalStatusToBeRemoved]"
   ]
  },
  {
   "cell_type": "code",
   "execution_count": 75,
   "metadata": {},
   "outputs": [
    {
     "data": {
      "text/plain": [
       "(30126, 16)"
      ]
     },
     "execution_count": 75,
     "metadata": {},
     "output_type": "execute_result"
    }
   ],
   "source": [
    "df1.shape"
   ]
  },
  {
   "cell_type": "code",
   "execution_count": 76,
   "metadata": {
    "scrolled": false
   },
   "outputs": [
    {
     "data": {
      "image/png": "[encoded data removed]",
      "text/plain": [
       "<Figure size 720x360 with 1 Axes>"
      ]
     },
     "metadata": {
      "needs_background": "light"
     },
     "output_type": "display_data"
    }
   ],
   "source": [
    "HoursPerWeekPlot=df1['marital-status'].sort_values().value_counts().plot.bar(figsize=(10,5),x='Value', title=\"Marital Status\")"
   ]
  },
  {
   "cell_type": "markdown",
   "metadata": {},
   "source": [
    "## Occupation"
   ]
  },
  {
   "cell_type": "code",
   "execution_count": 77,
   "metadata": {},
   "outputs": [
    {
     "data": {
      "text/plain": [
       "Prof-specialty       4035\n",
       "Craft-repair         4026\n",
       "Exec-managerial      3991\n",
       "Adm-clerical         3712\n",
       "Sales                3582\n",
       "Other-service        3207\n",
       "Machine-op-inspct    1965\n",
       "Transport-moving     1570\n",
       "Handlers-cleaners    1349\n",
       "Farming-fishing       982\n",
       "Tech-support          912\n",
       "Protective-serv       643\n",
       "Priv-house-serv       143\n",
       "Armed-Forces            9\n",
       "Name: occupation, dtype: int64"
      ]
     },
     "execution_count": 77,
     "metadata": {},
     "output_type": "execute_result"
    }
   ],
   "source": [
    "df1['occupation'].value_counts()"
   ]
  },
  {
   "cell_type": "markdown",
   "metadata": {},
   "source": [
    "## I decided to remove Armed Forces."
   ]
  },
  {
   "cell_type": "code",
   "execution_count": 78,
   "metadata": {},
   "outputs": [],
   "source": [
    "df1=df1[df1['occupation']!='Armed-Forces']"
   ]
  },
  {
   "cell_type": "code",
   "execution_count": 79,
   "metadata": {},
   "outputs": [
    {
     "data": {
      "text/plain": [
       "Prof-specialty       4035\n",
       "Craft-repair         4026\n",
       "Exec-managerial      3991\n",
       "Adm-clerical         3712\n",
       "Sales                3582\n",
       "Other-service        3207\n",
       "Machine-op-inspct    1965\n",
       "Transport-moving     1570\n",
       "Handlers-cleaners    1349\n",
       "Farming-fishing       982\n",
       "Tech-support          912\n",
       "Protective-serv       643\n",
       "Priv-house-serv       143\n",
       "Name: occupation, dtype: int64"
      ]
     },
     "execution_count": 79,
     "metadata": {},
     "output_type": "execute_result"
    }
   ],
   "source": [
    "df1['occupation'].value_counts()"
   ]
  },
  {
   "cell_type": "code",
   "execution_count": 80,
   "metadata": {},
   "outputs": [
    {
     "data": {
      "image/png": "[encoded data removed]",
      "text/plain": [
       "<Figure size 1080x360 with 1 Axes>"
      ]
     },
     "metadata": {
      "needs_background": "light"
     },
     "output_type": "display_data"
    }
   ],
   "source": [
    "OccupationPlot=df1['occupation'].sort_values().value_counts().plot.bar(figsize=(15,5),x='Value', title=\"Occupation\")"
   ]
  },
  {
   "cell_type": "markdown",
   "metadata": {},
   "source": [
    "## Hours per Week"
   ]
  },
  {
   "cell_type": "code",
   "execution_count": 81,
   "metadata": {},
   "outputs": [
    {
     "data": {
      "text/plain": [
       "40    14234\n",
       "50     2713\n",
       "45     1753\n",
       "60     1403\n",
       "35     1184\n",
       "20     1052\n",
       "30      988\n",
       "55      670\n",
       "25      570\n",
       "48      493\n",
       "38      455\n",
       "15      346\n",
       "70      276\n",
       "65      240\n",
       "32      238\n",
       "10      220\n",
       "24      217\n",
       "42      212\n",
       "44      208\n",
       "36      202\n",
       "Name: hours-per-week, dtype: int64"
      ]
     },
     "execution_count": 81,
     "metadata": {},
     "output_type": "execute_result"
    }
   ],
   "source": [
    "df1['hours-per-week'].sort_values().value_counts()[:20]"
   ]
  },
  {
   "cell_type": "code",
   "execution_count": 82,
   "metadata": {},
   "outputs": [
    {
     "data": {
      "image/png": "[encoded data removed]",
      "text/plain": [
       "<Figure size 720x216 with 1 Axes>"
      ]
     },
     "metadata": {
      "needs_background": "light"
     },
     "output_type": "display_data"
    }
   ],
   "source": [
    "HoursPerWeekPlot=df1['hours-per-week'].sort_values().value_counts()[:20].plot.bar(figsize=(10,3),x='Value', title=\"Working Hours per Week\")"
   ]
  },
  {
   "cell_type": "code",
   "execution_count": 83,
   "metadata": {},
   "outputs": [],
   "source": [
    "l_HoursPerWeek=[]\n",
    "for elem in df1['hours-per-week']:\n",
    "    if elem <38:\n",
    "        l_HoursPerWeek.append(\"Lower than 38 Hours\")\n",
    "    elif elem >=38 and elem <42:\n",
    "        l_HoursPerWeek.append(\">=38 & <42\")\n",
    "    \n",
    "    elif elem >=42 and elem <50:\n",
    "        l_HoursPerWeek.append(\">=42 & <50\")\n",
    "    else:\n",
    "        l_HoursPerWeek.append(\"Higher than 50 Hours\")        "
   ]
  },
  {
   "cell_type": "code",
   "execution_count": 84,
   "metadata": {},
   "outputs": [],
   "source": [
    "df1['l_HoursPerWeek']=l_HoursPerWeek"
   ]
  },
  {
   "cell_type": "code",
   "execution_count": 85,
   "metadata": {},
   "outputs": [
    {
     "data": {
      "image/png": "[encoded data removed]",
      "text/plain": [
       "<Figure size 720x216 with 1 Axes>"
      ]
     },
     "metadata": {
      "needs_background": "light"
     },
     "output_type": "display_data"
    }
   ],
   "source": [
    "HoursPerWeekPlotDiscrete=df1['l_HoursPerWeek'].sort_values().value_counts().plot.bar(figsize=(10,3),x='Value', title=\"Working Hours per Week\")\n",
    "plt.xticks(rotation=15)\n",
    "plt.show()"
   ]
  },
  {
   "cell_type": "markdown",
   "metadata": {},
   "source": [
    "## Native Country"
   ]
  },
  {
   "cell_type": "code",
   "execution_count": 86,
   "metadata": {},
   "outputs": [
    {
     "data": {
      "text/plain": [
       "United-States    27460\n",
       "Mexico             610\n",
       "Philippines        187\n",
       "Germany            128\n",
       "Puerto-Rico        109\n",
       "Canada             107\n",
       "India              100\n",
       "El-Salvador        100\n",
       "Cuba                92\n",
       "England             86\n",
       "Name: native-country, dtype: int64"
      ]
     },
     "execution_count": 86,
     "metadata": {},
     "output_type": "execute_result"
    }
   ],
   "source": [
    "df1['native-country'].value_counts()[:10]"
   ]
  },
  {
   "cell_type": "markdown",
   "metadata": {},
   "source": [
    "### I decided to group in Others all the countries whose observations are lower than 100"
   ]
  },
  {
   "cell_type": "code",
   "execution_count": 87,
   "metadata": {},
   "outputs": [],
   "source": [
    "l_Country=[]\n",
    "for elem in df1['native-country']:\n",
    "    if elem =='United-States':\n",
    "        l_Country.append(elem)\n",
    "    else:\n",
    "        l_Country.append('Others')"
   ]
  },
  {
   "cell_type": "code",
   "execution_count": 88,
   "metadata": {},
   "outputs": [],
   "source": [
    "df1['l_Country']=l_Country"
   ]
  },
  {
   "cell_type": "code",
   "execution_count": 89,
   "metadata": {},
   "outputs": [
    {
     "data": {
      "image/png": "[encoded data removed]",
      "text/plain": [
       "<Figure size 720x360 with 1 Axes>"
      ]
     },
     "metadata": {
      "needs_background": "light"
     },
     "output_type": "display_data"
    }
   ],
   "source": [
    "Country_Plot=df1['l_Country'].sort_values().value_counts().plot.bar(figsize=(10,5),x='Value', title=\"Countries Plot\")"
   ]
  },
  {
   "cell_type": "markdown",
   "metadata": {},
   "source": [
    "### ----------------------------------------------------------------------------------------------------------------------------------------------------\n",
    "### ----------------------------------------------------------------------------------------------------------------------------------------------------"
   ]
  },
  {
   "cell_type": "code",
   "execution_count": 90,
   "metadata": {},
   "outputs": [
    {
     "data": {
      "text/html": [
       "<div>\n",
       "<style scoped>\n",
       "    .dataframe tbody tr th:only-of-type {\n",
       "        vertical-align: middle;\n",
       "    }\n",
       "\n",
       "    .dataframe tbody tr th {\n",
       "        vertical-align: top;\n",
       "    }\n",
       "\n",
       "    .dataframe thead th {\n",
       "        text-align: right;\n",
       "    }\n",
       "</style>\n",
       "<table border=\"1\" class=\"dataframe\">\n",
       "  <thead>\n",
       "    <tr style=\"text-align: right;\">\n",
       "      <th></th>\n",
       "      <th>age</th>\n",
       "      <th>workclass</th>\n",
       "      <th>fnlwgt</th>\n",
       "      <th>education</th>\n",
       "      <th>marital-status</th>\n",
       "      <th>occupation</th>\n",
       "      <th>relationship</th>\n",
       "      <th>race</th>\n",
       "      <th>sex</th>\n",
       "      <th>capital-gain</th>\n",
       "      <th>capital-loss</th>\n",
       "      <th>hours-per-week</th>\n",
       "      <th>native-country</th>\n",
       "      <th>Salary</th>\n",
       "      <th>l_age</th>\n",
       "      <th>l_education</th>\n",
       "      <th>l_HoursPerWeek</th>\n",
       "      <th>l_Country</th>\n",
       "    </tr>\n",
       "  </thead>\n",
       "  <tbody>\n",
       "    <tr>\n",
       "      <td>0</td>\n",
       "      <td>50</td>\n",
       "      <td>Self-emp-not-inc</td>\n",
       "      <td>83311</td>\n",
       "      <td>Bachelors</td>\n",
       "      <td>Married-civ-spouse</td>\n",
       "      <td>Exec-managerial</td>\n",
       "      <td>Husband</td>\n",
       "      <td>White</td>\n",
       "      <td>Male</td>\n",
       "      <td>0</td>\n",
       "      <td>0</td>\n",
       "      <td>13</td>\n",
       "      <td>United-States</td>\n",
       "      <td>&lt;=50K</td>\n",
       "      <td>&gt;40 &amp; &lt;60</td>\n",
       "      <td>Bachelors</td>\n",
       "      <td>Lower than 38 Hours</td>\n",
       "      <td>United-States</td>\n",
       "    </tr>\n",
       "    <tr>\n",
       "      <td>1</td>\n",
       "      <td>38</td>\n",
       "      <td>Private</td>\n",
       "      <td>215646</td>\n",
       "      <td>HS-grad</td>\n",
       "      <td>Divorced</td>\n",
       "      <td>Handlers-cleaners</td>\n",
       "      <td>Not-in-family</td>\n",
       "      <td>White</td>\n",
       "      <td>Male</td>\n",
       "      <td>0</td>\n",
       "      <td>0</td>\n",
       "      <td>40</td>\n",
       "      <td>United-States</td>\n",
       "      <td>&lt;=50K</td>\n",
       "      <td>&gt;20 &amp; &lt;40</td>\n",
       "      <td>HS-grad</td>\n",
       "      <td>&gt;=38 &amp; &lt;42</td>\n",
       "      <td>United-States</td>\n",
       "    </tr>\n",
       "    <tr>\n",
       "      <td>2</td>\n",
       "      <td>53</td>\n",
       "      <td>Private</td>\n",
       "      <td>234721</td>\n",
       "      <td>11th</td>\n",
       "      <td>Married-civ-spouse</td>\n",
       "      <td>Handlers-cleaners</td>\n",
       "      <td>Husband</td>\n",
       "      <td>Black</td>\n",
       "      <td>Male</td>\n",
       "      <td>0</td>\n",
       "      <td>0</td>\n",
       "      <td>40</td>\n",
       "      <td>United-States</td>\n",
       "      <td>&lt;=50K</td>\n",
       "      <td>&gt;40 &amp; &lt;60</td>\n",
       "      <td>HS-Grad_NotCompleted</td>\n",
       "      <td>&gt;=38 &amp; &lt;42</td>\n",
       "      <td>United-States</td>\n",
       "    </tr>\n",
       "    <tr>\n",
       "      <td>3</td>\n",
       "      <td>28</td>\n",
       "      <td>Private</td>\n",
       "      <td>338409</td>\n",
       "      <td>Bachelors</td>\n",
       "      <td>Married-civ-spouse</td>\n",
       "      <td>Prof-specialty</td>\n",
       "      <td>Wife</td>\n",
       "      <td>Black</td>\n",
       "      <td>Female</td>\n",
       "      <td>0</td>\n",
       "      <td>0</td>\n",
       "      <td>40</td>\n",
       "      <td>Cuba</td>\n",
       "      <td>&lt;=50K</td>\n",
       "      <td>&gt;20 &amp; &lt;40</td>\n",
       "      <td>Bachelors</td>\n",
       "      <td>&gt;=38 &amp; &lt;42</td>\n",
       "      <td>Others</td>\n",
       "    </tr>\n",
       "    <tr>\n",
       "      <td>4</td>\n",
       "      <td>37</td>\n",
       "      <td>Private</td>\n",
       "      <td>284582</td>\n",
       "      <td>Masters</td>\n",
       "      <td>Married-civ-spouse</td>\n",
       "      <td>Exec-managerial</td>\n",
       "      <td>Wife</td>\n",
       "      <td>White</td>\n",
       "      <td>Female</td>\n",
       "      <td>0</td>\n",
       "      <td>0</td>\n",
       "      <td>40</td>\n",
       "      <td>United-States</td>\n",
       "      <td>&lt;=50K</td>\n",
       "      <td>&gt;20 &amp; &lt;40</td>\n",
       "      <td>Masters</td>\n",
       "      <td>&gt;=38 &amp; &lt;42</td>\n",
       "      <td>United-States</td>\n",
       "    </tr>\n",
       "  </tbody>\n",
       "</table>\n",
       "</div>"
      ],
      "text/plain": [
       "  age         workclass  fnlwgt  education      marital-status  \\\n",
       "0  50  Self-emp-not-inc   83311  Bachelors  Married-civ-spouse   \n",
       "1  38           Private  215646    HS-grad            Divorced   \n",
       "2  53           Private  234721       11th  Married-civ-spouse   \n",
       "3  28           Private  338409  Bachelors  Married-civ-spouse   \n",
       "4  37           Private  284582    Masters  Married-civ-spouse   \n",
       "\n",
       "          occupation   relationship   race     sex capital-gain capital-loss  \\\n",
       "0    Exec-managerial        Husband  White    Male            0            0   \n",
       "1  Handlers-cleaners  Not-in-family  White    Male            0            0   \n",
       "2  Handlers-cleaners        Husband  Black    Male            0            0   \n",
       "3     Prof-specialty           Wife  Black  Female            0            0   \n",
       "4    Exec-managerial           Wife  White  Female            0            0   \n",
       "\n",
       "  hours-per-week native-country Salary      l_age           l_education  \\\n",
       "0             13  United-States  <=50K  >40 & <60             Bachelors   \n",
       "1             40  United-States  <=50K  >20 & <40               HS-grad   \n",
       "2             40  United-States  <=50K  >40 & <60  HS-Grad_NotCompleted   \n",
       "3             40           Cuba  <=50K  >20 & <40             Bachelors   \n",
       "4             40  United-States  <=50K  >20 & <40               Masters   \n",
       "\n",
       "        l_HoursPerWeek      l_Country  \n",
       "0  Lower than 38 Hours  United-States  \n",
       "1           >=38 & <42  United-States  \n",
       "2           >=38 & <42  United-States  \n",
       "3           >=38 & <42         Others  \n",
       "4           >=38 & <42  United-States  "
      ]
     },
     "execution_count": 90,
     "metadata": {},
     "output_type": "execute_result"
    }
   ],
   "source": [
    "df1.head()"
   ]
  },
  {
   "cell_type": "code",
   "execution_count": 91,
   "metadata": {},
   "outputs": [],
   "source": [
    "CleanData=['l_age','workclass','l_education','marital-status','occupation','relationship','race','sex','l_Country','Salary']"
   ]
  },
  {
   "cell_type": "code",
   "execution_count": 92,
   "metadata": {},
   "outputs": [],
   "source": [
    "df2=df1[CleanData]"
   ]
  },
  {
   "cell_type": "code",
   "execution_count": 93,
   "metadata": {
    "scrolled": false
   },
   "outputs": [
    {
     "data": {
      "text/html": [
       "<div>\n",
       "<style scoped>\n",
       "    .dataframe tbody tr th:only-of-type {\n",
       "        vertical-align: middle;\n",
       "    }\n",
       "\n",
       "    .dataframe tbody tr th {\n",
       "        vertical-align: top;\n",
       "    }\n",
       "\n",
       "    .dataframe thead th {\n",
       "        text-align: right;\n",
       "    }\n",
       "</style>\n",
       "<table border=\"1\" class=\"dataframe\">\n",
       "  <thead>\n",
       "    <tr style=\"text-align: right;\">\n",
       "      <th></th>\n",
       "      <th>l_age</th>\n",
       "      <th>workclass</th>\n",
       "      <th>l_education</th>\n",
       "      <th>marital-status</th>\n",
       "      <th>occupation</th>\n",
       "      <th>relationship</th>\n",
       "      <th>race</th>\n",
       "      <th>sex</th>\n",
       "      <th>l_Country</th>\n",
       "      <th>Salary</th>\n",
       "    </tr>\n",
       "  </thead>\n",
       "  <tbody>\n",
       "    <tr>\n",
       "      <td>0</td>\n",
       "      <td>&gt;40 &amp; &lt;60</td>\n",
       "      <td>Self-emp-not-inc</td>\n",
       "      <td>Bachelors</td>\n",
       "      <td>Married-civ-spouse</td>\n",
       "      <td>Exec-managerial</td>\n",
       "      <td>Husband</td>\n",
       "      <td>White</td>\n",
       "      <td>Male</td>\n",
       "      <td>United-States</td>\n",
       "      <td>&lt;=50K</td>\n",
       "    </tr>\n",
       "    <tr>\n",
       "      <td>1</td>\n",
       "      <td>&gt;20 &amp; &lt;40</td>\n",
       "      <td>Private</td>\n",
       "      <td>HS-grad</td>\n",
       "      <td>Divorced</td>\n",
       "      <td>Handlers-cleaners</td>\n",
       "      <td>Not-in-family</td>\n",
       "      <td>White</td>\n",
       "      <td>Male</td>\n",
       "      <td>United-States</td>\n",
       "      <td>&lt;=50K</td>\n",
       "    </tr>\n",
       "  </tbody>\n",
       "</table>\n",
       "</div>"
      ],
      "text/plain": [
       "       l_age         workclass l_education      marital-status  \\\n",
       "0  >40 & <60  Self-emp-not-inc   Bachelors  Married-civ-spouse   \n",
       "1  >20 & <40           Private     HS-grad            Divorced   \n",
       "\n",
       "          occupation   relationship   race   sex      l_Country Salary  \n",
       "0    Exec-managerial        Husband  White  Male  United-States  <=50K  \n",
       "1  Handlers-cleaners  Not-in-family  White  Male  United-States  <=50K  "
      ]
     },
     "execution_count": 93,
     "metadata": {},
     "output_type": "execute_result"
    }
   ],
   "source": [
    "df2[:2]"
   ]
  },
  {
   "cell_type": "markdown",
   "metadata": {},
   "source": [
    "## Latest Check on the content of the attributes"
   ]
  },
  {
   "cell_type": "code",
   "execution_count": 94,
   "metadata": {},
   "outputs": [
    {
     "data": {
      "text/plain": [
       ">20 & <40    14969\n",
       ">40 & <60    10315\n",
       ">80           1760\n",
       ">60 & <80     1708\n",
       "<20           1365\n",
       "Name: l_age, dtype: int64"
      ]
     },
     "execution_count": 94,
     "metadata": {},
     "output_type": "execute_result"
    }
   ],
   "source": [
    "df2['l_age'].value_counts()"
   ]
  },
  {
   "cell_type": "code",
   "execution_count": 95,
   "metadata": {},
   "outputs": [
    {
     "data": {
      "text/plain": [
       "Private             22271\n",
       "Self-emp-not-inc     2497\n",
       "Local-gov            2067\n",
       "State-gov            1277\n",
       "Self-emp-inc         1074\n",
       "Federal-gov           931\n",
       "Name: workclass, dtype: int64"
      ]
     },
     "execution_count": 95,
     "metadata": {},
     "output_type": "execute_result"
    }
   ],
   "source": [
    "df2['workclass'].value_counts()"
   ]
  },
  {
   "cell_type": "code",
   "execution_count": 96,
   "metadata": {},
   "outputs": [
    {
     "data": {
      "text/plain": [
       "HS-grad                 9815\n",
       "Some-college            6670\n",
       "Bachelors               5038\n",
       "HS-Grad_NotCompleted    3255\n",
       "Assoc-acdm_or_Voc       2312\n",
       "Masters                 1626\n",
       "Prof-school              542\n",
       "Elementary school        484\n",
       "Doctorate                375\n",
       "Name: l_education, dtype: int64"
      ]
     },
     "execution_count": 96,
     "metadata": {},
     "output_type": "execute_result"
    }
   ],
   "source": [
    "df2['l_education'].value_counts()"
   ]
  },
  {
   "cell_type": "code",
   "execution_count": 97,
   "metadata": {},
   "outputs": [
    {
     "data": {
      "text/plain": [
       "Married-civ-spouse       14054\n",
       "Never-married             9715\n",
       "Divorced                  4214\n",
       "Separated                  939\n",
       "Widowed                    826\n",
       "Married-spouse-absent      369\n",
       "Name: marital-status, dtype: int64"
      ]
     },
     "execution_count": 97,
     "metadata": {},
     "output_type": "execute_result"
    }
   ],
   "source": [
    "df2['marital-status'].value_counts()"
   ]
  },
  {
   "cell_type": "code",
   "execution_count": 98,
   "metadata": {},
   "outputs": [
    {
     "data": {
      "text/plain": [
       "Prof-specialty       4035\n",
       "Craft-repair         4026\n",
       "Exec-managerial      3991\n",
       "Adm-clerical         3712\n",
       "Sales                3582\n",
       "Other-service        3207\n",
       "Machine-op-inspct    1965\n",
       "Transport-moving     1570\n",
       "Handlers-cleaners    1349\n",
       "Farming-fishing       982\n",
       "Tech-support          912\n",
       "Protective-serv       643\n",
       "Priv-house-serv       143\n",
       "Name: occupation, dtype: int64"
      ]
     },
     "execution_count": 98,
     "metadata": {},
     "output_type": "execute_result"
    }
   ],
   "source": [
    "df2['occupation'].value_counts()"
   ]
  },
  {
   "cell_type": "code",
   "execution_count": 99,
   "metadata": {},
   "outputs": [
    {
     "data": {
      "text/plain": [
       "Husband           12448\n",
       "Not-in-family      7721\n",
       "Own-child          4459\n",
       "Unmarried          3210\n",
       "Wife               1393\n",
       "Other-relative      886\n",
       "Name: relationship, dtype: int64"
      ]
     },
     "execution_count": 99,
     "metadata": {},
     "output_type": "execute_result"
    }
   ],
   "source": [
    "df2['relationship'].value_counts()"
   ]
  },
  {
   "cell_type": "code",
   "execution_count": 100,
   "metadata": {},
   "outputs": [
    {
     "data": {
      "text/plain": [
       "White                 25893\n",
       "Black                  2814\n",
       "Asian-Pac-Islander      894\n",
       "Amer-Indian-Eskimo      285\n",
       "Other                   231\n",
       "Name: race, dtype: int64"
      ]
     },
     "execution_count": 100,
     "metadata": {},
     "output_type": "execute_result"
    }
   ],
   "source": [
    "df2['race'].value_counts()"
   ]
  },
  {
   "cell_type": "code",
   "execution_count": 101,
   "metadata": {},
   "outputs": [
    {
     "data": {
      "text/plain": [
       "Male      20352\n",
       "Female     9765\n",
       "Name: sex, dtype: int64"
      ]
     },
     "execution_count": 101,
     "metadata": {},
     "output_type": "execute_result"
    }
   ],
   "source": [
    "df2['sex'].value_counts()"
   ]
  },
  {
   "cell_type": "code",
   "execution_count": 102,
   "metadata": {},
   "outputs": [
    {
     "data": {
      "text/plain": [
       "United-States    27460\n",
       "Others            2657\n",
       "Name: l_Country, dtype: int64"
      ]
     },
     "execution_count": 102,
     "metadata": {},
     "output_type": "execute_result"
    }
   ],
   "source": [
    "df2['l_Country'].value_counts()"
   ]
  },
  {
   "cell_type": "code",
   "execution_count": 103,
   "metadata": {},
   "outputs": [
    {
     "data": {
      "text/plain": [
       "<=50K    22620\n",
       ">50K      7497\n",
       "Name: Salary, dtype: int64"
      ]
     },
     "execution_count": 103,
     "metadata": {},
     "output_type": "execute_result"
    }
   ],
   "source": [
    "df2['Salary'].value_counts()"
   ]
  },
  {
   "cell_type": "code",
   "execution_count": null,
   "metadata": {},
   "outputs": [],
   "source": []
  },
  {
   "cell_type": "markdown",
   "metadata": {},
   "source": [
    "# It seems to be good. Now we can start with the classification activities"
   ]
  },
  {
   "cell_type": "code",
   "execution_count": 104,
   "metadata": {
    "scrolled": false
   },
   "outputs": [
    {
     "data": {
      "text/html": [
       "<div>\n",
       "<style scoped>\n",
       "    .dataframe tbody tr th:only-of-type {\n",
       "        vertical-align: middle;\n",
       "    }\n",
       "\n",
       "    .dataframe tbody tr th {\n",
       "        vertical-align: top;\n",
       "    }\n",
       "\n",
       "    .dataframe thead th {\n",
       "        text-align: right;\n",
       "    }\n",
       "</style>\n",
       "<table border=\"1\" class=\"dataframe\">\n",
       "  <thead>\n",
       "    <tr style=\"text-align: right;\">\n",
       "      <th></th>\n",
       "      <th>l_age</th>\n",
       "      <th>workclass</th>\n",
       "      <th>l_education</th>\n",
       "      <th>marital-status</th>\n",
       "      <th>occupation</th>\n",
       "      <th>relationship</th>\n",
       "      <th>race</th>\n",
       "      <th>sex</th>\n",
       "      <th>l_Country</th>\n",
       "      <th>Salary</th>\n",
       "    </tr>\n",
       "  </thead>\n",
       "  <tbody>\n",
       "    <tr>\n",
       "      <td>32558</td>\n",
       "      <td>&gt;20 &amp; &lt;40</td>\n",
       "      <td>Private</td>\n",
       "      <td>HS-grad</td>\n",
       "      <td>Never-married</td>\n",
       "      <td>Adm-clerical</td>\n",
       "      <td>Own-child</td>\n",
       "      <td>White</td>\n",
       "      <td>Male</td>\n",
       "      <td>United-States</td>\n",
       "      <td>&lt;=50K</td>\n",
       "    </tr>\n",
       "    <tr>\n",
       "      <td>32559</td>\n",
       "      <td>&gt;40 &amp; &lt;60</td>\n",
       "      <td>Self-emp-inc</td>\n",
       "      <td>HS-grad</td>\n",
       "      <td>Married-civ-spouse</td>\n",
       "      <td>Exec-managerial</td>\n",
       "      <td>Wife</td>\n",
       "      <td>White</td>\n",
       "      <td>Female</td>\n",
       "      <td>United-States</td>\n",
       "      <td>&gt;50K</td>\n",
       "    </tr>\n",
       "  </tbody>\n",
       "</table>\n",
       "</div>"
      ],
      "text/plain": [
       "           l_age     workclass l_education      marital-status  \\\n",
       "32558  >20 & <40       Private     HS-grad       Never-married   \n",
       "32559  >40 & <60  Self-emp-inc     HS-grad  Married-civ-spouse   \n",
       "\n",
       "            occupation relationship   race     sex      l_Country Salary  \n",
       "32558     Adm-clerical    Own-child  White    Male  United-States  <=50K  \n",
       "32559  Exec-managerial         Wife  White  Female  United-States   >50K  "
      ]
     },
     "execution_count": 104,
     "metadata": {},
     "output_type": "execute_result"
    }
   ],
   "source": [
    "df2[-2:]"
   ]
  },
  {
   "cell_type": "markdown",
   "metadata": {},
   "source": [
    "### Now, I need to encode correctly my dataset"
   ]
  },
  {
   "cell_type": "code",
   "execution_count": 105,
   "metadata": {},
   "outputs": [],
   "source": [
    "le = preprocessing.LabelEncoder()\n",
    "df3 = df2.apply(le.fit_transform)"
   ]
  },
  {
   "cell_type": "code",
   "execution_count": 106,
   "metadata": {},
   "outputs": [
    {
     "data": {
      "text/html": [
       "<div>\n",
       "<style scoped>\n",
       "    .dataframe tbody tr th:only-of-type {\n",
       "        vertical-align: middle;\n",
       "    }\n",
       "\n",
       "    .dataframe tbody tr th {\n",
       "        vertical-align: top;\n",
       "    }\n",
       "\n",
       "    .dataframe thead th {\n",
       "        text-align: right;\n",
       "    }\n",
       "</style>\n",
       "<table border=\"1\" class=\"dataframe\">\n",
       "  <thead>\n",
       "    <tr style=\"text-align: right;\">\n",
       "      <th></th>\n",
       "      <th>l_age</th>\n",
       "      <th>workclass</th>\n",
       "      <th>l_education</th>\n",
       "      <th>marital-status</th>\n",
       "      <th>occupation</th>\n",
       "      <th>relationship</th>\n",
       "      <th>race</th>\n",
       "      <th>sex</th>\n",
       "      <th>l_Country</th>\n",
       "      <th>Salary</th>\n",
       "    </tr>\n",
       "  </thead>\n",
       "  <tbody>\n",
       "    <tr>\n",
       "      <td>0</td>\n",
       "      <td>2</td>\n",
       "      <td>4</td>\n",
       "      <td>1</td>\n",
       "      <td>1</td>\n",
       "      <td>2</td>\n",
       "      <td>0</td>\n",
       "      <td>4</td>\n",
       "      <td>1</td>\n",
       "      <td>1</td>\n",
       "      <td>0</td>\n",
       "    </tr>\n",
       "    <tr>\n",
       "      <td>1</td>\n",
       "      <td>1</td>\n",
       "      <td>2</td>\n",
       "      <td>5</td>\n",
       "      <td>0</td>\n",
       "      <td>4</td>\n",
       "      <td>1</td>\n",
       "      <td>4</td>\n",
       "      <td>1</td>\n",
       "      <td>1</td>\n",
       "      <td>0</td>\n",
       "    </tr>\n",
       "    <tr>\n",
       "      <td>2</td>\n",
       "      <td>2</td>\n",
       "      <td>2</td>\n",
       "      <td>4</td>\n",
       "      <td>1</td>\n",
       "      <td>4</td>\n",
       "      <td>0</td>\n",
       "      <td>2</td>\n",
       "      <td>1</td>\n",
       "      <td>1</td>\n",
       "      <td>0</td>\n",
       "    </tr>\n",
       "    <tr>\n",
       "      <td>3</td>\n",
       "      <td>1</td>\n",
       "      <td>2</td>\n",
       "      <td>1</td>\n",
       "      <td>1</td>\n",
       "      <td>8</td>\n",
       "      <td>5</td>\n",
       "      <td>2</td>\n",
       "      <td>0</td>\n",
       "      <td>0</td>\n",
       "      <td>0</td>\n",
       "    </tr>\n",
       "    <tr>\n",
       "      <td>4</td>\n",
       "      <td>1</td>\n",
       "      <td>2</td>\n",
       "      <td>6</td>\n",
       "      <td>1</td>\n",
       "      <td>2</td>\n",
       "      <td>5</td>\n",
       "      <td>4</td>\n",
       "      <td>0</td>\n",
       "      <td>1</td>\n",
       "      <td>0</td>\n",
       "    </tr>\n",
       "    <tr>\n",
       "      <td>5</td>\n",
       "      <td>2</td>\n",
       "      <td>2</td>\n",
       "      <td>4</td>\n",
       "      <td>2</td>\n",
       "      <td>6</td>\n",
       "      <td>1</td>\n",
       "      <td>2</td>\n",
       "      <td>0</td>\n",
       "      <td>0</td>\n",
       "      <td>0</td>\n",
       "    </tr>\n",
       "    <tr>\n",
       "      <td>6</td>\n",
       "      <td>2</td>\n",
       "      <td>4</td>\n",
       "      <td>5</td>\n",
       "      <td>1</td>\n",
       "      <td>2</td>\n",
       "      <td>0</td>\n",
       "      <td>4</td>\n",
       "      <td>1</td>\n",
       "      <td>1</td>\n",
       "      <td>1</td>\n",
       "    </tr>\n",
       "    <tr>\n",
       "      <td>7</td>\n",
       "      <td>1</td>\n",
       "      <td>2</td>\n",
       "      <td>6</td>\n",
       "      <td>3</td>\n",
       "      <td>8</td>\n",
       "      <td>1</td>\n",
       "      <td>4</td>\n",
       "      <td>0</td>\n",
       "      <td>1</td>\n",
       "      <td>1</td>\n",
       "    </tr>\n",
       "    <tr>\n",
       "      <td>8</td>\n",
       "      <td>2</td>\n",
       "      <td>2</td>\n",
       "      <td>1</td>\n",
       "      <td>1</td>\n",
       "      <td>2</td>\n",
       "      <td>0</td>\n",
       "      <td>4</td>\n",
       "      <td>1</td>\n",
       "      <td>1</td>\n",
       "      <td>1</td>\n",
       "    </tr>\n",
       "    <tr>\n",
       "      <td>9</td>\n",
       "      <td>1</td>\n",
       "      <td>2</td>\n",
       "      <td>8</td>\n",
       "      <td>1</td>\n",
       "      <td>2</td>\n",
       "      <td>0</td>\n",
       "      <td>2</td>\n",
       "      <td>1</td>\n",
       "      <td>1</td>\n",
       "      <td>1</td>\n",
       "    </tr>\n",
       "    <tr>\n",
       "      <td>10</td>\n",
       "      <td>1</td>\n",
       "      <td>5</td>\n",
       "      <td>1</td>\n",
       "      <td>1</td>\n",
       "      <td>8</td>\n",
       "      <td>0</td>\n",
       "      <td>1</td>\n",
       "      <td>1</td>\n",
       "      <td>0</td>\n",
       "      <td>1</td>\n",
       "    </tr>\n",
       "    <tr>\n",
       "      <td>11</td>\n",
       "      <td>1</td>\n",
       "      <td>2</td>\n",
       "      <td>1</td>\n",
       "      <td>3</td>\n",
       "      <td>0</td>\n",
       "      <td>3</td>\n",
       "      <td>4</td>\n",
       "      <td>0</td>\n",
       "      <td>1</td>\n",
       "      <td>0</td>\n",
       "    </tr>\n",
       "    <tr>\n",
       "      <td>12</td>\n",
       "      <td>1</td>\n",
       "      <td>2</td>\n",
       "      <td>0</td>\n",
       "      <td>3</td>\n",
       "      <td>10</td>\n",
       "      <td>1</td>\n",
       "      <td>2</td>\n",
       "      <td>1</td>\n",
       "      <td>1</td>\n",
       "      <td>0</td>\n",
       "    </tr>\n",
       "    <tr>\n",
       "      <td>14</td>\n",
       "      <td>1</td>\n",
       "      <td>2</td>\n",
       "      <td>4</td>\n",
       "      <td>1</td>\n",
       "      <td>12</td>\n",
       "      <td>0</td>\n",
       "      <td>0</td>\n",
       "      <td>1</td>\n",
       "      <td>0</td>\n",
       "      <td>0</td>\n",
       "    </tr>\n",
       "    <tr>\n",
       "      <td>15</td>\n",
       "      <td>1</td>\n",
       "      <td>4</td>\n",
       "      <td>5</td>\n",
       "      <td>3</td>\n",
       "      <td>3</td>\n",
       "      <td>3</td>\n",
       "      <td>4</td>\n",
       "      <td>1</td>\n",
       "      <td>1</td>\n",
       "      <td>0</td>\n",
       "    </tr>\n",
       "    <tr>\n",
       "      <td>16</td>\n",
       "      <td>1</td>\n",
       "      <td>2</td>\n",
       "      <td>5</td>\n",
       "      <td>3</td>\n",
       "      <td>5</td>\n",
       "      <td>4</td>\n",
       "      <td>4</td>\n",
       "      <td>1</td>\n",
       "      <td>1</td>\n",
       "      <td>0</td>\n",
       "    </tr>\n",
       "    <tr>\n",
       "      <td>17</td>\n",
       "      <td>1</td>\n",
       "      <td>2</td>\n",
       "      <td>4</td>\n",
       "      <td>1</td>\n",
       "      <td>10</td>\n",
       "      <td>0</td>\n",
       "      <td>4</td>\n",
       "      <td>1</td>\n",
       "      <td>1</td>\n",
       "      <td>0</td>\n",
       "    </tr>\n",
       "    <tr>\n",
       "      <td>18</td>\n",
       "      <td>2</td>\n",
       "      <td>4</td>\n",
       "      <td>6</td>\n",
       "      <td>0</td>\n",
       "      <td>2</td>\n",
       "      <td>4</td>\n",
       "      <td>4</td>\n",
       "      <td>0</td>\n",
       "      <td>1</td>\n",
       "      <td>1</td>\n",
       "    </tr>\n",
       "    <tr>\n",
       "      <td>19</td>\n",
       "      <td>4</td>\n",
       "      <td>2</td>\n",
       "      <td>2</td>\n",
       "      <td>1</td>\n",
       "      <td>8</td>\n",
       "      <td>0</td>\n",
       "      <td>4</td>\n",
       "      <td>1</td>\n",
       "      <td>1</td>\n",
       "      <td>1</td>\n",
       "    </tr>\n",
       "    <tr>\n",
       "      <td>20</td>\n",
       "      <td>2</td>\n",
       "      <td>2</td>\n",
       "      <td>5</td>\n",
       "      <td>4</td>\n",
       "      <td>6</td>\n",
       "      <td>4</td>\n",
       "      <td>2</td>\n",
       "      <td>0</td>\n",
       "      <td>1</td>\n",
       "      <td>0</td>\n",
       "    </tr>\n",
       "  </tbody>\n",
       "</table>\n",
       "</div>"
      ],
      "text/plain": [
       "    l_age  workclass  l_education  marital-status  occupation  relationship  \\\n",
       "0       2          4            1               1           2             0   \n",
       "1       1          2            5               0           4             1   \n",
       "2       2          2            4               1           4             0   \n",
       "3       1          2            1               1           8             5   \n",
       "4       1          2            6               1           2             5   \n",
       "5       2          2            4               2           6             1   \n",
       "6       2          4            5               1           2             0   \n",
       "7       1          2            6               3           8             1   \n",
       "8       2          2            1               1           2             0   \n",
       "9       1          2            8               1           2             0   \n",
       "10      1          5            1               1           8             0   \n",
       "11      1          2            1               3           0             3   \n",
       "12      1          2            0               3          10             1   \n",
       "14      1          2            4               1          12             0   \n",
       "15      1          4            5               3           3             3   \n",
       "16      1          2            5               3           5             4   \n",
       "17      1          2            4               1          10             0   \n",
       "18      2          4            6               0           2             4   \n",
       "19      4          2            2               1           8             0   \n",
       "20      2          2            5               4           6             4   \n",
       "\n",
       "    race  sex  l_Country  Salary  \n",
       "0      4    1          1       0  \n",
       "1      4    1          1       0  \n",
       "2      2    1          1       0  \n",
       "3      2    0          0       0  \n",
       "4      4    0          1       0  \n",
       "5      2    0          0       0  \n",
       "6      4    1          1       1  \n",
       "7      4    0          1       1  \n",
       "8      4    1          1       1  \n",
       "9      2    1          1       1  \n",
       "10     1    1          0       1  \n",
       "11     4    0          1       0  \n",
       "12     2    1          1       0  \n",
       "14     0    1          0       0  \n",
       "15     4    1          1       0  \n",
       "16     4    1          1       0  \n",
       "17     4    1          1       0  \n",
       "18     4    0          1       1  \n",
       "19     4    1          1       1  \n",
       "20     2    0          1       0  "
      ]
     },
     "execution_count": 106,
     "metadata": {},
     "output_type": "execute_result"
    }
   ],
   "source": [
    "df3[:20]"
   ]
  },
  {
   "cell_type": "markdown",
   "metadata": {},
   "source": [
    "* I create my target Variable"
   ]
  },
  {
   "cell_type": "code",
   "execution_count": 107,
   "metadata": {},
   "outputs": [
    {
     "data": {
      "text/html": [
       "<div>\n",
       "<style scoped>\n",
       "    .dataframe tbody tr th:only-of-type {\n",
       "        vertical-align: middle;\n",
       "    }\n",
       "\n",
       "    .dataframe tbody tr th {\n",
       "        vertical-align: top;\n",
       "    }\n",
       "\n",
       "    .dataframe thead th {\n",
       "        text-align: right;\n",
       "    }\n",
       "</style>\n",
       "<table border=\"1\" class=\"dataframe\">\n",
       "  <thead>\n",
       "    <tr style=\"text-align: right;\">\n",
       "      <th></th>\n",
       "      <th>Salary</th>\n",
       "    </tr>\n",
       "  </thead>\n",
       "  <tbody>\n",
       "    <tr>\n",
       "      <td>0</td>\n",
       "      <td>0</td>\n",
       "    </tr>\n",
       "    <tr>\n",
       "      <td>1</td>\n",
       "      <td>0</td>\n",
       "    </tr>\n",
       "    <tr>\n",
       "      <td>2</td>\n",
       "      <td>0</td>\n",
       "    </tr>\n",
       "    <tr>\n",
       "      <td>3</td>\n",
       "      <td>0</td>\n",
       "    </tr>\n",
       "    <tr>\n",
       "      <td>4</td>\n",
       "      <td>0</td>\n",
       "    </tr>\n",
       "    <tr>\n",
       "      <td>...</td>\n",
       "      <td>...</td>\n",
       "    </tr>\n",
       "    <tr>\n",
       "      <td>32555</td>\n",
       "      <td>0</td>\n",
       "    </tr>\n",
       "    <tr>\n",
       "      <td>32556</td>\n",
       "      <td>1</td>\n",
       "    </tr>\n",
       "    <tr>\n",
       "      <td>32557</td>\n",
       "      <td>0</td>\n",
       "    </tr>\n",
       "    <tr>\n",
       "      <td>32558</td>\n",
       "      <td>0</td>\n",
       "    </tr>\n",
       "    <tr>\n",
       "      <td>32559</td>\n",
       "      <td>1</td>\n",
       "    </tr>\n",
       "  </tbody>\n",
       "</table>\n",
       "<p>30117 rows × 1 columns</p>\n",
       "</div>"
      ],
      "text/plain": [
       "       Salary\n",
       "0           0\n",
       "1           0\n",
       "2           0\n",
       "3           0\n",
       "4           0\n",
       "...       ...\n",
       "32555       0\n",
       "32556       1\n",
       "32557       0\n",
       "32558       0\n",
       "32559       1\n",
       "\n",
       "[30117 rows x 1 columns]"
      ]
     },
     "execution_count": 107,
     "metadata": {},
     "output_type": "execute_result"
    }
   ],
   "source": [
    "y=df3[['Salary']].copy()\n",
    "y"
   ]
  },
  {
   "cell_type": "code",
   "execution_count": 108,
   "metadata": {},
   "outputs": [],
   "source": [
    "X=df3.iloc[:,0:9]"
   ]
  },
  {
   "cell_type": "code",
   "execution_count": 109,
   "metadata": {},
   "outputs": [
    {
     "data": {
      "text/plain": [
       "Index(['l_age', 'workclass', 'l_education', 'marital-status', 'occupation',\n",
       "       'relationship', 'race', 'sex', 'l_Country'],\n",
       "      dtype='object')"
      ]
     },
     "execution_count": 109,
     "metadata": {},
     "output_type": "execute_result"
    }
   ],
   "source": [
    "X.columns"
   ]
  },
  {
   "cell_type": "markdown",
   "metadata": {},
   "source": [
    "## Training Phase"
   ]
  },
  {
   "cell_type": "code",
   "execution_count": 110,
   "metadata": {},
   "outputs": [],
   "source": [
    "X_train, X_test, y_train, y_test = train_test_split(X, y, test_size=0.33, random_state=324)"
   ]
  },
  {
   "cell_type": "code",
   "execution_count": 111,
   "metadata": {},
   "outputs": [],
   "source": [
    "#type(X_train)\n",
    "#type(X_test)\n",
    "#type(y_train)\n",
    "#type(y_test)\n",
    "#X_train.head()\n",
    "#y_train.describe()\n",
    "#X_test.describe()"
   ]
  },
  {
   "cell_type": "code",
   "execution_count": 112,
   "metadata": {},
   "outputs": [
    {
     "data": {
      "text/plain": [
       "DecisionTreeClassifier(class_weight=None, criterion='gini', max_depth=None,\n",
       "                       max_features=None, max_leaf_nodes=20,\n",
       "                       min_impurity_decrease=0.0, min_impurity_split=None,\n",
       "                       min_samples_leaf=1, min_samples_split=2,\n",
       "                       min_weight_fraction_leaf=0.0, presort=False,\n",
       "                       random_state=0, splitter='best')"
      ]
     },
     "execution_count": 112,
     "metadata": {},
     "output_type": "execute_result"
    }
   ],
   "source": [
    "IncomeClassifier = DecisionTreeClassifier(random_state=0,max_leaf_nodes=20)\n",
    "IncomeClassifier.fit(X_train, y_train)"
   ]
  },
  {
   "cell_type": "code",
   "execution_count": 113,
   "metadata": {
    "scrolled": false
   },
   "outputs": [
    {
     "data": {
      "text/plain": [
       "sklearn.tree.tree.DecisionTreeClassifier"
      ]
     },
     "execution_count": 113,
     "metadata": {},
     "output_type": "execute_result"
    }
   ],
   "source": [
    "type(IncomeClassifier)"
   ]
  },
  {
   "cell_type": "code",
   "execution_count": 114,
   "metadata": {
    "scrolled": false
   },
   "outputs": [
    {
     "name": "stdout",
     "output_type": "stream",
     "text": [
      "[0.03562728 0.00585681 0.28184603 0.         0.05089583 0.62577404\n",
      " 0.         0.         0.        ]\n"
     ]
    }
   ],
   "source": [
    "print(IncomeClassifier.feature_importances_)"
   ]
  },
  {
   "cell_type": "code",
   "execution_count": 115,
   "metadata": {
    "scrolled": true
   },
   "outputs": [
    {
     "data": {
      "image/png": "[encoded data removed]",
      "text/plain": [
       "<Figure size 432x288 with 1 Axes>"
      ]
     },
     "metadata": {
      "needs_background": "light"
     },
     "output_type": "display_data"
    }
   ],
   "source": [
    "pyplot.bar(range(len(IncomeClassifier.feature_importances_)), IncomeClassifier.feature_importances_)\n",
    "pyplot.show()"
   ]
  },
  {
   "cell_type": "code",
   "execution_count": 116,
   "metadata": {},
   "outputs": [],
   "source": [
    "names=X.columns"
   ]
  },
  {
   "cell_type": "code",
   "execution_count": 117,
   "metadata": {},
   "outputs": [
    {
     "data": {
      "image/png": "[encoded data removed]",
      "text/plain": [
       "<Figure size 432x288 with 1 Axes>"
      ]
     },
     "metadata": {
      "needs_background": "light"
     },
     "output_type": "display_data"
    }
   ],
   "source": [
    "pyplot.bar(range(len(IncomeClassifier.feature_importances_)), IncomeClassifier.feature_importances_)\n",
    "pyplot.xticks(range(X.shape[1]), names, rotation=-60)\n",
    "pyplot.title('Most Informative Variables')\n",
    "pyplot.grid(True)\n",
    "pyplot.show()"
   ]
  },
  {
   "cell_type": "markdown",
   "metadata": {},
   "source": [
    "# I print the decision tree\n"
   ]
  },
  {
   "cell_type": "code",
   "execution_count": 118,
   "metadata": {},
   "outputs": [
    {
     "data": {
      "text/plain": [
       "True"
      ]
     },
     "execution_count": 118,
     "metadata": {},
     "output_type": "execute_result"
    }
   ],
   "source": [
    "dot_data = tree.export_graphviz(IncomeClassifier, out_file=None,filled = True,feature_names=names,class_names=df2['Salary'].unique())\n",
    "graph = graphviz.Source(dot_data)\n",
    "pydot_graph = pydotplus.graph_from_dot_data(dot_data)\n",
    "pydot_graph.write_png('original_tree.png')\n",
    "pydot_graph.set_size('\"10,10!\"')\n",
    "pydot_graph.write_png('resized_tree.png')"
   ]
  },
  {
   "cell_type": "code",
   "execution_count": 119,
   "metadata": {},
   "outputs": [
    {
     "data": {
      "image/svg+xml": [
       "<?xml version=\"1.0\" encoding=\"UTF-8\" standalone=\"no\"?>\r\n",
       "<!DOCTYPE svg PUBLIC \"-//W3C//DTD SVG 1.1//EN\"\r\n",
       " \"http://www.w3.org/Graphics/SVG/1.1/DTD/svg11.dtd\">\r\n",
       "<!-- Generated by graphviz version 2.38.0 (20140413.2041)\r\n",
       " -->\r\n",
       "<!-- Title: Tree Pages: 1 -->\r\n",
       "<svg width=\"1616pt\" height=\"790pt\"\r\n",
       " viewBox=\"0.00 0.00 1615.50 790.00\" xmlns=\"http://www.w3.org/2000/svg\" xmlns:xlink=\"http://www.w3.org/1999/xlink\">\r\n",
       "<g id=\"graph0\" class=\"graph\" transform=\"scale(1 1) rotate(0) translate(4 786)\">\r\n",
       "<title>Tree</title>\r\n",
       "<polygon fill=\"white\" stroke=\"none\" points=\"-4,4 -4,-786 1611.5,-786 1611.5,4 -4,4\"/>\r\n",
       "<!-- 0 -->\r\n",
       "<g id=\"node1\" class=\"node\"><title>0</title>\r\n",
       "<polygon fill=\"#eeab7b\" stroke=\"black\" points=\"818.5,-782 680.5,-782 680.5,-699 818.5,-699 818.5,-782\"/>\r\n",
       "<text text-anchor=\"middle\" x=\"749.5\" y=\"-766.8\" font-family=\"Times New Roman,serif\" font-size=\"14.00\">relationship &lt;= 0.5</text>\r\n",
       "<text text-anchor=\"middle\" x=\"749.5\" y=\"-751.8\" font-family=\"Times New Roman,serif\" font-size=\"14.00\">gini = 0.374</text>\r\n",
       "<text text-anchor=\"middle\" x=\"749.5\" y=\"-736.8\" font-family=\"Times New Roman,serif\" font-size=\"14.00\">samples = 20178</text>\r\n",
       "<text text-anchor=\"middle\" x=\"749.5\" y=\"-721.8\" font-family=\"Times New Roman,serif\" font-size=\"14.00\">value = [15150, 5028]</text>\r\n",
       "<text text-anchor=\"middle\" x=\"749.5\" y=\"-706.8\" font-family=\"Times New Roman,serif\" font-size=\"14.00\">class = &lt;=50K</text>\r\n",
       "</g>\r\n",
       "<!-- 1 -->\r\n",
       "<g id=\"node2\" class=\"node\"><title>1</title>\r\n",
       "<polygon fill=\"#fbebdf\" stroke=\"black\" points=\"609,-663 478,-663 478,-580 609,-580 609,-663\"/>\r\n",
       "<text text-anchor=\"middle\" x=\"543.5\" y=\"-647.8\" font-family=\"Times New Roman,serif\" font-size=\"14.00\">l_education &lt;= 2.5</text>\r\n",
       "<text text-anchor=\"middle\" x=\"543.5\" y=\"-632.8\" font-family=\"Times New Roman,serif\" font-size=\"14.00\">gini = 0.496</text>\r\n",
       "<text text-anchor=\"middle\" x=\"543.5\" y=\"-617.8\" font-family=\"Times New Roman,serif\" font-size=\"14.00\">samples = 8342</text>\r\n",
       "<text text-anchor=\"middle\" x=\"543.5\" y=\"-602.8\" font-family=\"Times New Roman,serif\" font-size=\"14.00\">value = [4539, 3803]</text>\r\n",
       "<text text-anchor=\"middle\" x=\"543.5\" y=\"-587.8\" font-family=\"Times New Roman,serif\" font-size=\"14.00\">class = &lt;=50K</text>\r\n",
       "</g>\r\n",
       "<!-- 0&#45;&gt;1 -->\r\n",
       "<g id=\"edge1\" class=\"edge\"><title>0&#45;&gt;1</title>\r\n",
       "<path fill=\"none\" stroke=\"black\" d=\"M680.332,-700.215C660.274,-688.823 638.29,-676.337 617.925,-664.77\"/>\r\n",
       "<polygon fill=\"black\" stroke=\"black\" points=\"619.425,-661.598 609.001,-659.702 615.968,-667.684 619.425,-661.598\"/>\r\n",
       "<text text-anchor=\"middle\" x=\"615.643\" y=\"-680.104\" font-family=\"Times New Roman,serif\" font-size=\"14.00\">True</text>\r\n",
       "</g>\r\n",
       "<!-- 2 -->\r\n",
       "<g id=\"node23\" class=\"node\"><title>2</title>\r\n",
       "<polygon fill=\"#e89050\" stroke=\"black\" points=\"1055.5,-663 917.5,-663 917.5,-580 1055.5,-580 1055.5,-663\"/>\r\n",
       "<text text-anchor=\"middle\" x=\"986.5\" y=\"-647.8\" font-family=\"Times New Roman,serif\" font-size=\"14.00\">relationship &lt;= 4.5</text>\r\n",
       "<text text-anchor=\"middle\" x=\"986.5\" y=\"-632.8\" font-family=\"Times New Roman,serif\" font-size=\"14.00\">gini = 0.186</text>\r\n",
       "<text text-anchor=\"middle\" x=\"986.5\" y=\"-617.8\" font-family=\"Times New Roman,serif\" font-size=\"14.00\">samples = 11836</text>\r\n",
       "<text text-anchor=\"middle\" x=\"986.5\" y=\"-602.8\" font-family=\"Times New Roman,serif\" font-size=\"14.00\">value = [10611, 1225]</text>\r\n",
       "<text text-anchor=\"middle\" x=\"986.5\" y=\"-587.8\" font-family=\"Times New Roman,serif\" font-size=\"14.00\">class = &lt;=50K</text>\r\n",
       "</g>\r\n",
       "<!-- 0&#45;&gt;2 -->\r\n",
       "<g id=\"edge22\" class=\"edge\"><title>0&#45;&gt;2</title>\r\n",
       "<path fill=\"none\" stroke=\"black\" d=\"M818.687,-705.344C846.673,-691.528 879.125,-675.508 907.991,-661.258\"/>\r\n",
       "<polygon fill=\"black\" stroke=\"black\" points=\"909.809,-664.263 917.227,-656.698 906.71,-657.987 909.809,-664.263\"/>\r\n",
       "<text text-anchor=\"middle\" x=\"909.201\" y=\"-676.675\" font-family=\"Times New Roman,serif\" font-size=\"14.00\">False</text>\r\n",
       "</g>\r\n",
       "<!-- 5 -->\r\n",
       "<g id=\"node3\" class=\"node\"><title>5</title>\r\n",
       "<polygon fill=\"#b1d8f5\" stroke=\"black\" points=\"388,-544 263,-544 263,-461 388,-461 388,-544\"/>\r\n",
       "<text text-anchor=\"middle\" x=\"325.5\" y=\"-528.8\" font-family=\"Times New Roman,serif\" font-size=\"14.00\">l_education &lt;= 0.5</text>\r\n",
       "<text text-anchor=\"middle\" x=\"325.5\" y=\"-513.8\" font-family=\"Times New Roman,serif\" font-size=\"14.00\">gini = 0.47</text>\r\n",
       "<text text-anchor=\"middle\" x=\"325.5\" y=\"-498.8\" font-family=\"Times New Roman,serif\" font-size=\"14.00\">samples = 2310</text>\r\n",
       "<text text-anchor=\"middle\" x=\"325.5\" y=\"-483.8\" font-family=\"Times New Roman,serif\" font-size=\"14.00\">value = [872, 1438]</text>\r\n",
       "<text text-anchor=\"middle\" x=\"325.5\" y=\"-468.8\" font-family=\"Times New Roman,serif\" font-size=\"14.00\">class = &gt;50K</text>\r\n",
       "</g>\r\n",
       "<!-- 1&#45;&gt;5 -->\r\n",
       "<g id=\"edge2\" class=\"edge\"><title>1&#45;&gt;5</title>\r\n",
       "<path fill=\"none\" stroke=\"black\" d=\"M477.797,-585.237C452.34,-571.575 423.121,-555.893 397.127,-541.942\"/>\r\n",
       "<polygon fill=\"black\" stroke=\"black\" points=\"398.545,-538.731 388.079,-537.086 395.235,-544.899 398.545,-538.731\"/>\r\n",
       "</g>\r\n",
       "<!-- 6 -->\r\n",
       "<g id=\"node8\" class=\"node\"><title>6</title>\r\n",
       "<polygon fill=\"#f6d2b9\" stroke=\"black\" points=\"609,-544 478,-544 478,-461 609,-461 609,-544\"/>\r\n",
       "<text text-anchor=\"middle\" x=\"543.5\" y=\"-528.8\" font-family=\"Times New Roman,serif\" font-size=\"14.00\">l_education &lt;= 5.5</text>\r\n",
       "<text text-anchor=\"middle\" x=\"543.5\" y=\"-513.8\" font-family=\"Times New Roman,serif\" font-size=\"14.00\">gini = 0.477</text>\r\n",
       "<text text-anchor=\"middle\" x=\"543.5\" y=\"-498.8\" font-family=\"Times New Roman,serif\" font-size=\"14.00\">samples = 6032</text>\r\n",
       "<text text-anchor=\"middle\" x=\"543.5\" y=\"-483.8\" font-family=\"Times New Roman,serif\" font-size=\"14.00\">value = [3667, 2365]</text>\r\n",
       "<text text-anchor=\"middle\" x=\"543.5\" y=\"-468.8\" font-family=\"Times New Roman,serif\" font-size=\"14.00\">class = &lt;=50K</text>\r\n",
       "</g>\r\n",
       "<!-- 1&#45;&gt;6 -->\r\n",
       "<g id=\"edge7\" class=\"edge\"><title>1&#45;&gt;6</title>\r\n",
       "<path fill=\"none\" stroke=\"black\" d=\"M543.5,-579.907C543.5,-571.649 543.5,-562.864 543.5,-554.302\"/>\r\n",
       "<polygon fill=\"black\" stroke=\"black\" points=\"547,-554.021 543.5,-544.021 540,-554.021 547,-554.021\"/>\r\n",
       "</g>\r\n",
       "<!-- 11 -->\r\n",
       "<g id=\"node4\" class=\"node\"><title>11</title>\r\n",
       "<polygon fill=\"#f8decc\" stroke=\"black\" points=\"244.5,-425 126.5,-425 126.5,-342 244.5,-342 244.5,-425\"/>\r\n",
       "<text text-anchor=\"middle\" x=\"185.5\" y=\"-409.8\" font-family=\"Times New Roman,serif\" font-size=\"14.00\">l_age &lt;= 1.5</text>\r\n",
       "<text text-anchor=\"middle\" x=\"185.5\" y=\"-394.8\" font-family=\"Times New Roman,serif\" font-size=\"14.00\">gini = 0.489</text>\r\n",
       "<text text-anchor=\"middle\" x=\"185.5\" y=\"-379.8\" font-family=\"Times New Roman,serif\" font-size=\"14.00\">samples = 637</text>\r\n",
       "<text text-anchor=\"middle\" x=\"185.5\" y=\"-364.8\" font-family=\"Times New Roman,serif\" font-size=\"14.00\">value = [366, 271]</text>\r\n",
       "<text text-anchor=\"middle\" x=\"185.5\" y=\"-349.8\" font-family=\"Times New Roman,serif\" font-size=\"14.00\">class = &lt;=50K</text>\r\n",
       "</g>\r\n",
       "<!-- 5&#45;&gt;11 -->\r\n",
       "<g id=\"edge3\" class=\"edge\"><title>5&#45;&gt;11</title>\r\n",
       "<path fill=\"none\" stroke=\"black\" d=\"M276.928,-460.907C265.634,-451.469 253.517,-441.343 241.918,-431.649\"/>\r\n",
       "<polygon fill=\"black\" stroke=\"black\" points=\"243.904,-428.748 233.986,-425.021 239.415,-434.119 243.904,-428.748\"/>\r\n",
       "</g>\r\n",
       "<!-- 12 -->\r\n",
       "<g id=\"node7\" class=\"node\"><title>12</title>\r\n",
       "<polygon fill=\"#8fc7f0\" stroke=\"black\" points=\"388,-417.5 263,-417.5 263,-349.5 388,-349.5 388,-417.5\"/>\r\n",
       "<text text-anchor=\"middle\" x=\"325.5\" y=\"-402.3\" font-family=\"Times New Roman,serif\" font-size=\"14.00\">gini = 0.422</text>\r\n",
       "<text text-anchor=\"middle\" x=\"325.5\" y=\"-387.3\" font-family=\"Times New Roman,serif\" font-size=\"14.00\">samples = 1673</text>\r\n",
       "<text text-anchor=\"middle\" x=\"325.5\" y=\"-372.3\" font-family=\"Times New Roman,serif\" font-size=\"14.00\">value = [506, 1167]</text>\r\n",
       "<text text-anchor=\"middle\" x=\"325.5\" y=\"-357.3\" font-family=\"Times New Roman,serif\" font-size=\"14.00\">class = &gt;50K</text>\r\n",
       "</g>\r\n",
       "<!-- 5&#45;&gt;12 -->\r\n",
       "<g id=\"edge6\" class=\"edge\"><title>5&#45;&gt;12</title>\r\n",
       "<path fill=\"none\" stroke=\"black\" d=\"M325.5,-460.907C325.5,-450.204 325.5,-438.615 325.5,-427.776\"/>\r\n",
       "<polygon fill=\"black\" stroke=\"black\" points=\"329,-427.667 325.5,-417.667 322,-427.667 329,-427.667\"/>\r\n",
       "</g>\r\n",
       "<!-- 25 -->\r\n",
       "<g id=\"node5\" class=\"node\"><title>25</title>\r\n",
       "<polygon fill=\"#f0b78d\" stroke=\"black\" points=\"111,-298.5 0,-298.5 0,-230.5 111,-230.5 111,-298.5\"/>\r\n",
       "<text text-anchor=\"middle\" x=\"55.5\" y=\"-283.3\" font-family=\"Times New Roman,serif\" font-size=\"14.00\">gini = 0.419</text>\r\n",
       "<text text-anchor=\"middle\" x=\"55.5\" y=\"-268.3\" font-family=\"Times New Roman,serif\" font-size=\"14.00\">samples = 301</text>\r\n",
       "<text text-anchor=\"middle\" x=\"55.5\" y=\"-253.3\" font-family=\"Times New Roman,serif\" font-size=\"14.00\">value = [211, 90]</text>\r\n",
       "<text text-anchor=\"middle\" x=\"55.5\" y=\"-238.3\" font-family=\"Times New Roman,serif\" font-size=\"14.00\">class = &lt;=50K</text>\r\n",
       "</g>\r\n",
       "<!-- 11&#45;&gt;25 -->\r\n",
       "<g id=\"edge4\" class=\"edge\"><title>11&#45;&gt;25</title>\r\n",
       "<path fill=\"none\" stroke=\"black\" d=\"M140.397,-341.907C127.278,-330.101 112.963,-317.217 99.8884,-305.45\"/>\r\n",
       "<polygon fill=\"black\" stroke=\"black\" points=\"102.127,-302.755 92.3522,-298.667 97.4437,-307.958 102.127,-302.755\"/>\r\n",
       "</g>\r\n",
       "<!-- 26 -->\r\n",
       "<g id=\"node6\" class=\"node\"><title>26</title>\r\n",
       "<polygon fill=\"#e3f1fb\" stroke=\"black\" points=\"247.5,-298.5 129.5,-298.5 129.5,-230.5 247.5,-230.5 247.5,-298.5\"/>\r\n",
       "<text text-anchor=\"middle\" x=\"188.5\" y=\"-283.3\" font-family=\"Times New Roman,serif\" font-size=\"14.00\">gini = 0.497</text>\r\n",
       "<text text-anchor=\"middle\" x=\"188.5\" y=\"-268.3\" font-family=\"Times New Roman,serif\" font-size=\"14.00\">samples = 336</text>\r\n",
       "<text text-anchor=\"middle\" x=\"188.5\" y=\"-253.3\" font-family=\"Times New Roman,serif\" font-size=\"14.00\">value = [155, 181]</text>\r\n",
       "<text text-anchor=\"middle\" x=\"188.5\" y=\"-238.3\" font-family=\"Times New Roman,serif\" font-size=\"14.00\">class = &gt;50K</text>\r\n",
       "</g>\r\n",
       "<!-- 11&#45;&gt;26 -->\r\n",
       "<g id=\"edge5\" class=\"edge\"><title>11&#45;&gt;26</title>\r\n",
       "<path fill=\"none\" stroke=\"black\" d=\"M186.541,-341.907C186.815,-331.204 187.112,-319.615 187.39,-308.776\"/>\r\n",
       "<polygon fill=\"black\" stroke=\"black\" points=\"190.892,-308.753 187.65,-298.667 183.894,-308.574 190.892,-308.753\"/>\r\n",
       "</g>\r\n",
       "<!-- 7 -->\r\n",
       "<g id=\"node9\" class=\"node\"><title>7</title>\r\n",
       "<polygon fill=\"#efb083\" stroke=\"black\" points=\"531,-425 406,-425 406,-342 531,-342 531,-425\"/>\r\n",
       "<text text-anchor=\"middle\" x=\"468.5\" y=\"-409.8\" font-family=\"Times New Roman,serif\" font-size=\"14.00\">l_education &lt;= 4.5</text>\r\n",
       "<text text-anchor=\"middle\" x=\"468.5\" y=\"-394.8\" font-family=\"Times New Roman,serif\" font-size=\"14.00\">gini = 0.397</text>\r\n",
       "<text text-anchor=\"middle\" x=\"468.5\" y=\"-379.8\" font-family=\"Times New Roman,serif\" font-size=\"14.00\">samples = 3636</text>\r\n",
       "<text text-anchor=\"middle\" x=\"468.5\" y=\"-364.8\" font-family=\"Times New Roman,serif\" font-size=\"14.00\">value = [2645, 991]</text>\r\n",
       "<text text-anchor=\"middle\" x=\"468.5\" y=\"-349.8\" font-family=\"Times New Roman,serif\" font-size=\"14.00\">class = &lt;=50K</text>\r\n",
       "</g>\r\n",
       "<!-- 6&#45;&gt;7 -->\r\n",
       "<g id=\"edge8\" class=\"edge\"><title>6&#45;&gt;7</title>\r\n",
       "<path fill=\"none\" stroke=\"black\" d=\"M517.479,-460.907C511.836,-452.105 505.81,-442.703 499.982,-433.612\"/>\r\n",
       "<polygon fill=\"black\" stroke=\"black\" points=\"502.818,-431.551 494.475,-425.021 496.925,-435.328 502.818,-431.551\"/>\r\n",
       "</g>\r\n",
       "<!-- 8 -->\r\n",
       "<g id=\"node16\" class=\"node\"><title>8</title>\r\n",
       "<polygon fill=\"#cce6f8\" stroke=\"black\" points=\"680,-425 549,-425 549,-342 680,-342 680,-425\"/>\r\n",
       "<text text-anchor=\"middle\" x=\"614.5\" y=\"-409.8\" font-family=\"Times New Roman,serif\" font-size=\"14.00\">l_education &lt;= 7.5</text>\r\n",
       "<text text-anchor=\"middle\" x=\"614.5\" y=\"-394.8\" font-family=\"Times New Roman,serif\" font-size=\"14.00\">gini = 0.489</text>\r\n",
       "<text text-anchor=\"middle\" x=\"614.5\" y=\"-379.8\" font-family=\"Times New Roman,serif\" font-size=\"14.00\">samples = 2396</text>\r\n",
       "<text text-anchor=\"middle\" x=\"614.5\" y=\"-364.8\" font-family=\"Times New Roman,serif\" font-size=\"14.00\">value = [1022, 1374]</text>\r\n",
       "<text text-anchor=\"middle\" x=\"614.5\" y=\"-349.8\" font-family=\"Times New Roman,serif\" font-size=\"14.00\">class = &gt;50K</text>\r\n",
       "</g>\r\n",
       "<!-- 6&#45;&gt;8 -->\r\n",
       "<g id=\"edge15\" class=\"edge\"><title>6&#45;&gt;8</title>\r\n",
       "<path fill=\"none\" stroke=\"black\" d=\"M568.133,-460.907C573.475,-452.105 579.18,-442.703 584.697,-433.612\"/>\r\n",
       "<polygon fill=\"black\" stroke=\"black\" points=\"587.715,-435.386 589.91,-425.021 581.73,-431.754 587.715,-435.386\"/>\r\n",
       "</g>\r\n",
       "<!-- 13 -->\r\n",
       "<g id=\"node10\" class=\"node\"><title>13</title>\r\n",
       "<polygon fill=\"#e99355\" stroke=\"black\" points=\"387.5,-298.5 269.5,-298.5 269.5,-230.5 387.5,-230.5 387.5,-298.5\"/>\r\n",
       "<text text-anchor=\"middle\" x=\"328.5\" y=\"-283.3\" font-family=\"Times New Roman,serif\" font-size=\"14.00\">gini = 0.216</text>\r\n",
       "<text text-anchor=\"middle\" x=\"328.5\" y=\"-268.3\" font-family=\"Times New Roman,serif\" font-size=\"14.00\">samples = 902</text>\r\n",
       "<text text-anchor=\"middle\" x=\"328.5\" y=\"-253.3\" font-family=\"Times New Roman,serif\" font-size=\"14.00\">value = [791, 111]</text>\r\n",
       "<text text-anchor=\"middle\" x=\"328.5\" y=\"-238.3\" font-family=\"Times New Roman,serif\" font-size=\"14.00\">class = &lt;=50K</text>\r\n",
       "</g>\r\n",
       "<!-- 7&#45;&gt;13 -->\r\n",
       "<g id=\"edge9\" class=\"edge\"><title>7&#45;&gt;13</title>\r\n",
       "<path fill=\"none\" stroke=\"black\" d=\"M419.928,-341.907C405.668,-329.99 390.095,-316.976 375.908,-305.12\"/>\r\n",
       "<polygon fill=\"black\" stroke=\"black\" points=\"378.105,-302.394 368.187,-298.667 373.616,-307.765 378.105,-302.394\"/>\r\n",
       "</g>\r\n",
       "<!-- 14 -->\r\n",
       "<g id=\"node11\" class=\"node\"><title>14</title>\r\n",
       "<polygon fill=\"#f1bd97\" stroke=\"black\" points=\"531,-306 406,-306 406,-223 531,-223 531,-306\"/>\r\n",
       "<text text-anchor=\"middle\" x=\"468.5\" y=\"-290.8\" font-family=\"Times New Roman,serif\" font-size=\"14.00\">l_age &lt;= 1.5</text>\r\n",
       "<text text-anchor=\"middle\" x=\"468.5\" y=\"-275.8\" font-family=\"Times New Roman,serif\" font-size=\"14.00\">gini = 0.437</text>\r\n",
       "<text text-anchor=\"middle\" x=\"468.5\" y=\"-260.8\" font-family=\"Times New Roman,serif\" font-size=\"14.00\">samples = 2734</text>\r\n",
       "<text text-anchor=\"middle\" x=\"468.5\" y=\"-245.8\" font-family=\"Times New Roman,serif\" font-size=\"14.00\">value = [1854, 880]</text>\r\n",
       "<text text-anchor=\"middle\" x=\"468.5\" y=\"-230.8\" font-family=\"Times New Roman,serif\" font-size=\"14.00\">class = &lt;=50K</text>\r\n",
       "</g>\r\n",
       "<!-- 7&#45;&gt;14 -->\r\n",
       "<g id=\"edge10\" class=\"edge\"><title>7&#45;&gt;14</title>\r\n",
       "<path fill=\"none\" stroke=\"black\" d=\"M468.5,-341.907C468.5,-333.649 468.5,-324.864 468.5,-316.302\"/>\r\n",
       "<polygon fill=\"black\" stroke=\"black\" points=\"472,-316.021 468.5,-306.021 465,-316.021 472,-316.021\"/>\r\n",
       "</g>\r\n",
       "<!-- 17 -->\r\n",
       "<g id=\"node12\" class=\"node\"><title>17</title>\r\n",
       "<polygon fill=\"#eda978\" stroke=\"black\" points=\"393.5,-179.5 275.5,-179.5 275.5,-111.5 393.5,-111.5 393.5,-179.5\"/>\r\n",
       "<text text-anchor=\"middle\" x=\"334.5\" y=\"-164.3\" font-family=\"Times New Roman,serif\" font-size=\"14.00\">gini = 0.367</text>\r\n",
       "<text text-anchor=\"middle\" x=\"334.5\" y=\"-149.3\" font-family=\"Times New Roman,serif\" font-size=\"14.00\">samples = 1222</text>\r\n",
       "<text text-anchor=\"middle\" x=\"334.5\" y=\"-134.3\" font-family=\"Times New Roman,serif\" font-size=\"14.00\">value = [926, 296]</text>\r\n",
       "<text text-anchor=\"middle\" x=\"334.5\" y=\"-119.3\" font-family=\"Times New Roman,serif\" font-size=\"14.00\">class = &lt;=50K</text>\r\n",
       "</g>\r\n",
       "<!-- 14&#45;&gt;17 -->\r\n",
       "<g id=\"edge11\" class=\"edge\"><title>14&#45;&gt;17</title>\r\n",
       "<path fill=\"none\" stroke=\"black\" d=\"M422.009,-222.907C408.487,-211.101 393.731,-198.217 380.254,-186.45\"/>\r\n",
       "<polygon fill=\"black\" stroke=\"black\" points=\"382.321,-183.608 372.486,-179.667 377.717,-188.881 382.321,-183.608\"/>\r\n",
       "</g>\r\n",
       "<!-- 18 -->\r\n",
       "<g id=\"node13\" class=\"node\"><title>18</title>\r\n",
       "<polygon fill=\"#f5d0b6\" stroke=\"black\" points=\"529.5,-187 411.5,-187 411.5,-104 529.5,-104 529.5,-187\"/>\r\n",
       "<text text-anchor=\"middle\" x=\"470.5\" y=\"-171.8\" font-family=\"Times New Roman,serif\" font-size=\"14.00\">l_age &lt;= 2.5</text>\r\n",
       "<text text-anchor=\"middle\" x=\"470.5\" y=\"-156.8\" font-family=\"Times New Roman,serif\" font-size=\"14.00\">gini = 0.474</text>\r\n",
       "<text text-anchor=\"middle\" x=\"470.5\" y=\"-141.8\" font-family=\"Times New Roman,serif\" font-size=\"14.00\">samples = 1512</text>\r\n",
       "<text text-anchor=\"middle\" x=\"470.5\" y=\"-126.8\" font-family=\"Times New Roman,serif\" font-size=\"14.00\">value = [928, 584]</text>\r\n",
       "<text text-anchor=\"middle\" x=\"470.5\" y=\"-111.8\" font-family=\"Times New Roman,serif\" font-size=\"14.00\">class = &lt;=50K</text>\r\n",
       "</g>\r\n",
       "<!-- 14&#45;&gt;18 -->\r\n",
       "<g id=\"edge12\" class=\"edge\"><title>14&#45;&gt;18</title>\r\n",
       "<path fill=\"none\" stroke=\"black\" d=\"M469.194,-222.907C469.337,-214.558 469.489,-205.671 469.636,-197.02\"/>\r\n",
       "<polygon fill=\"black\" stroke=\"black\" points=\"473.136,-197.079 469.807,-187.021 466.137,-196.959 473.136,-197.079\"/>\r\n",
       "</g>\r\n",
       "<!-- 27 -->\r\n",
       "<g id=\"node14\" class=\"node\"><title>27</title>\r\n",
       "<polygon fill=\"#f8decb\" stroke=\"black\" points=\"400.5,-68 282.5,-68 282.5,-0 400.5,-0 400.5,-68\"/>\r\n",
       "<text text-anchor=\"middle\" x=\"341.5\" y=\"-52.8\" font-family=\"Times New Roman,serif\" font-size=\"14.00\">gini = 0.489</text>\r\n",
       "<text text-anchor=\"middle\" x=\"341.5\" y=\"-37.8\" font-family=\"Times New Roman,serif\" font-size=\"14.00\">samples = 1191</text>\r\n",
       "<text text-anchor=\"middle\" x=\"341.5\" y=\"-22.8\" font-family=\"Times New Roman,serif\" font-size=\"14.00\">value = [685, 506]</text>\r\n",
       "<text text-anchor=\"middle\" x=\"341.5\" y=\"-7.8\" font-family=\"Times New Roman,serif\" font-size=\"14.00\">class = &lt;=50K</text>\r\n",
       "</g>\r\n",
       "<!-- 18&#45;&gt;27 -->\r\n",
       "<g id=\"edge13\" class=\"edge\"><title>18&#45;&gt;27</title>\r\n",
       "<path fill=\"none\" stroke=\"black\" d=\"M422.465,-103.726C411.398,-94.3318 399.637,-84.349 388.61,-74.9883\"/>\r\n",
       "<polygon fill=\"black\" stroke=\"black\" points=\"390.618,-72.1026 380.73,-68.2996 386.088,-77.4393 390.618,-72.1026\"/>\r\n",
       "</g>\r\n",
       "<!-- 28 -->\r\n",
       "<g id=\"node15\" class=\"node\"><title>28</title>\r\n",
       "<polygon fill=\"#eda979\" stroke=\"black\" points=\"530,-68 419,-68 419,-0 530,-0 530,-68\"/>\r\n",
       "<text text-anchor=\"middle\" x=\"474.5\" y=\"-52.8\" font-family=\"Times New Roman,serif\" font-size=\"14.00\">gini = 0.368</text>\r\n",
       "<text text-anchor=\"middle\" x=\"474.5\" y=\"-37.8\" font-family=\"Times New Roman,serif\" font-size=\"14.00\">samples = 321</text>\r\n",
       "<text text-anchor=\"middle\" x=\"474.5\" y=\"-22.8\" font-family=\"Times New Roman,serif\" font-size=\"14.00\">value = [243, 78]</text>\r\n",
       "<text text-anchor=\"middle\" x=\"474.5\" y=\"-7.8\" font-family=\"Times New Roman,serif\" font-size=\"14.00\">class = &lt;=50K</text>\r\n",
       "</g>\r\n",
       "<!-- 18&#45;&gt;28 -->\r\n",
       "<g id=\"edge14\" class=\"edge\"><title>18&#45;&gt;28</title>\r\n",
       "<path fill=\"none\" stroke=\"black\" d=\"M471.989,-103.726C472.289,-95.5175 472.606,-86.8595 472.909,-78.56\"/>\r\n",
       "<polygon fill=\"black\" stroke=\"black\" points=\"476.416,-78.4207 473.284,-68.2996 469.421,-78.1651 476.416,-78.4207\"/>\r\n",
       "</g>\r\n",
       "<!-- 9 -->\r\n",
       "<g id=\"node17\" class=\"node\"><title>9</title>\r\n",
       "<polygon fill=\"#68b4eb\" stroke=\"black\" points=\"667.5,-298.5 549.5,-298.5 549.5,-230.5 667.5,-230.5 667.5,-298.5\"/>\r\n",
       "<text text-anchor=\"middle\" x=\"608.5\" y=\"-283.3\" font-family=\"Times New Roman,serif\" font-size=\"14.00\">gini = 0.312</text>\r\n",
       "<text text-anchor=\"middle\" x=\"608.5\" y=\"-268.3\" font-family=\"Times New Roman,serif\" font-size=\"14.00\">samples = 829</text>\r\n",
       "<text text-anchor=\"middle\" x=\"608.5\" y=\"-253.3\" font-family=\"Times New Roman,serif\" font-size=\"14.00\">value = [160, 669]</text>\r\n",
       "<text text-anchor=\"middle\" x=\"608.5\" y=\"-238.3\" font-family=\"Times New Roman,serif\" font-size=\"14.00\">class = &gt;50K</text>\r\n",
       "</g>\r\n",
       "<!-- 8&#45;&gt;9 -->\r\n",
       "<g id=\"edge16\" class=\"edge\"><title>8&#45;&gt;9</title>\r\n",
       "<path fill=\"none\" stroke=\"black\" d=\"M612.418,-341.907C611.869,-331.204 611.275,-319.615 610.719,-308.776\"/>\r\n",
       "<polygon fill=\"black\" stroke=\"black\" points=\"614.209,-308.475 610.201,-298.667 607.218,-308.833 614.209,-308.475\"/>\r\n",
       "</g>\r\n",
       "<!-- 10 -->\r\n",
       "<g id=\"node18\" class=\"node\"><title>10</title>\r\n",
       "<polygon fill=\"#fae8db\" stroke=\"black\" points=\"803.5,-306 685.5,-306 685.5,-223 803.5,-223 803.5,-306\"/>\r\n",
       "<text text-anchor=\"middle\" x=\"744.5\" y=\"-290.8\" font-family=\"Times New Roman,serif\" font-size=\"14.00\">l_age &lt;= 1.5</text>\r\n",
       "<text text-anchor=\"middle\" x=\"744.5\" y=\"-275.8\" font-family=\"Times New Roman,serif\" font-size=\"14.00\">gini = 0.495</text>\r\n",
       "<text text-anchor=\"middle\" x=\"744.5\" y=\"-260.8\" font-family=\"Times New Roman,serif\" font-size=\"14.00\">samples = 1567</text>\r\n",
       "<text text-anchor=\"middle\" x=\"744.5\" y=\"-245.8\" font-family=\"Times New Roman,serif\" font-size=\"14.00\">value = [862, 705]</text>\r\n",
       "<text text-anchor=\"middle\" x=\"744.5\" y=\"-230.8\" font-family=\"Times New Roman,serif\" font-size=\"14.00\">class = &lt;=50K</text>\r\n",
       "</g>\r\n",
       "<!-- 8&#45;&gt;10 -->\r\n",
       "<g id=\"edge17\" class=\"edge\"><title>8&#45;&gt;10</title>\r\n",
       "<path fill=\"none\" stroke=\"black\" d=\"M659.603,-341.907C669.989,-332.56 681.125,-322.538 691.801,-312.929\"/>\r\n",
       "<polygon fill=\"black\" stroke=\"black\" points=\"694.385,-315.312 699.477,-306.021 689.703,-310.109 694.385,-315.312\"/>\r\n",
       "</g>\r\n",
       "<!-- 19 -->\r\n",
       "<g id=\"node19\" class=\"node\"><title>19</title>\r\n",
       "<polygon fill=\"#f3c4a3\" stroke=\"black\" points=\"667.5,-179.5 549.5,-179.5 549.5,-111.5 667.5,-111.5 667.5,-179.5\"/>\r\n",
       "<text text-anchor=\"middle\" x=\"608.5\" y=\"-164.3\" font-family=\"Times New Roman,serif\" font-size=\"14.00\">gini = 0.454</text>\r\n",
       "<text text-anchor=\"middle\" x=\"608.5\" y=\"-149.3\" font-family=\"Times New Roman,serif\" font-size=\"14.00\">samples = 689</text>\r\n",
       "<text text-anchor=\"middle\" x=\"608.5\" y=\"-134.3\" font-family=\"Times New Roman,serif\" font-size=\"14.00\">value = [449, 240]</text>\r\n",
       "<text text-anchor=\"middle\" x=\"608.5\" y=\"-119.3\" font-family=\"Times New Roman,serif\" font-size=\"14.00\">class = &lt;=50K</text>\r\n",
       "</g>\r\n",
       "<!-- 10&#45;&gt;19 -->\r\n",
       "<g id=\"edge18\" class=\"edge\"><title>10&#45;&gt;19</title>\r\n",
       "<path fill=\"none\" stroke=\"black\" d=\"M697.315,-222.907C683.591,-211.101 668.615,-198.217 654.937,-186.45\"/>\r\n",
       "<polygon fill=\"black\" stroke=\"black\" points=\"656.916,-183.535 647.053,-179.667 652.351,-188.842 656.916,-183.535\"/>\r\n",
       "</g>\r\n",
       "<!-- 20 -->\r\n",
       "<g id=\"node20\" class=\"node\"><title>20</title>\r\n",
       "<polygon fill=\"#e9f4fc\" stroke=\"black\" points=\"803.5,-187 685.5,-187 685.5,-104 803.5,-104 803.5,-187\"/>\r\n",
       "<text text-anchor=\"middle\" x=\"744.5\" y=\"-171.8\" font-family=\"Times New Roman,serif\" font-size=\"14.00\">workclass &lt;= 3.5</text>\r\n",
       "<text text-anchor=\"middle\" x=\"744.5\" y=\"-156.8\" font-family=\"Times New Roman,serif\" font-size=\"14.00\">gini = 0.498</text>\r\n",
       "<text text-anchor=\"middle\" x=\"744.5\" y=\"-141.8\" font-family=\"Times New Roman,serif\" font-size=\"14.00\">samples = 878</text>\r\n",
       "<text text-anchor=\"middle\" x=\"744.5\" y=\"-126.8\" font-family=\"Times New Roman,serif\" font-size=\"14.00\">value = [413, 465]</text>\r\n",
       "<text text-anchor=\"middle\" x=\"744.5\" y=\"-111.8\" font-family=\"Times New Roman,serif\" font-size=\"14.00\">class = &gt;50K</text>\r\n",
       "</g>\r\n",
       "<!-- 10&#45;&gt;20 -->\r\n",
       "<g id=\"edge19\" class=\"edge\"><title>10&#45;&gt;20</title>\r\n",
       "<path fill=\"none\" stroke=\"black\" d=\"M744.5,-222.907C744.5,-214.649 744.5,-205.864 744.5,-197.302\"/>\r\n",
       "<polygon fill=\"black\" stroke=\"black\" points=\"748,-197.021 744.5,-187.021 741,-197.021 748,-197.021\"/>\r\n",
       "</g>\r\n",
       "<!-- 31 -->\r\n",
       "<g id=\"node21\" class=\"node\"><title>31</title>\r\n",
       "<polygon fill=\"#cde6f8\" stroke=\"black\" points=\"672.5,-68 554.5,-68 554.5,-0 672.5,-0 672.5,-68\"/>\r\n",
       "<text text-anchor=\"middle\" x=\"613.5\" y=\"-52.8\" font-family=\"Times New Roman,serif\" font-size=\"14.00\">gini = 0.49</text>\r\n",
       "<text text-anchor=\"middle\" x=\"613.5\" y=\"-37.8\" font-family=\"Times New Roman,serif\" font-size=\"14.00\">samples = 720</text>\r\n",
       "<text text-anchor=\"middle\" x=\"613.5\" y=\"-22.8\" font-family=\"Times New Roman,serif\" font-size=\"14.00\">value = [308, 412]</text>\r\n",
       "<text text-anchor=\"middle\" x=\"613.5\" y=\"-7.8\" font-family=\"Times New Roman,serif\" font-size=\"14.00\">class = &gt;50K</text>\r\n",
       "</g>\r\n",
       "<!-- 20&#45;&gt;31 -->\r\n",
       "<g id=\"edge20\" class=\"edge\"><title>20&#45;&gt;31</title>\r\n",
       "<path fill=\"none\" stroke=\"black\" d=\"M695.72,-103.726C684.372,-94.2406 672.307,-84.1551 661.014,-74.7159\"/>\r\n",
       "<polygon fill=\"black\" stroke=\"black\" points=\"663.255,-72.0276 653.338,-68.2996 658.766,-77.3984 663.255,-72.0276\"/>\r\n",
       "</g>\r\n",
       "<!-- 32 -->\r\n",
       "<g id=\"node22\" class=\"node\"><title>32</title>\r\n",
       "<polygon fill=\"#f2c19d\" stroke=\"black\" points=\"802,-68 691,-68 691,-0 802,-0 802,-68\"/>\r\n",
       "<text text-anchor=\"middle\" x=\"746.5\" y=\"-52.8\" font-family=\"Times New Roman,serif\" font-size=\"14.00\">gini = 0.446</text>\r\n",
       "<text text-anchor=\"middle\" x=\"746.5\" y=\"-37.8\" font-family=\"Times New Roman,serif\" font-size=\"14.00\">samples = 158</text>\r\n",
       "<text text-anchor=\"middle\" x=\"746.5\" y=\"-22.8\" font-family=\"Times New Roman,serif\" font-size=\"14.00\">value = [105, 53]</text>\r\n",
       "<text text-anchor=\"middle\" x=\"746.5\" y=\"-7.8\" font-family=\"Times New Roman,serif\" font-size=\"14.00\">class = &lt;=50K</text>\r\n",
       "</g>\r\n",
       "<!-- 20&#45;&gt;32 -->\r\n",
       "<g id=\"edge21\" class=\"edge\"><title>20&#45;&gt;32</title>\r\n",
       "<path fill=\"none\" stroke=\"black\" d=\"M745.245,-103.726C745.395,-95.5175 745.553,-86.8595 745.704,-78.56\"/>\r\n",
       "<polygon fill=\"black\" stroke=\"black\" points=\"749.208,-78.3619 745.892,-68.2996 742.21,-78.234 749.208,-78.3619\"/>\r\n",
       "</g>\r\n",
       "<!-- 3 -->\r\n",
       "<g id=\"node24\" class=\"node\"><title>3</title>\r\n",
       "<polygon fill=\"#e78b48\" stroke=\"black\" points=\"1052,-544 921,-544 921,-461 1052,-461 1052,-544\"/>\r\n",
       "<text text-anchor=\"middle\" x=\"986.5\" y=\"-528.8\" font-family=\"Times New Roman,serif\" font-size=\"14.00\">relationship &lt;= 1.5</text>\r\n",
       "<text text-anchor=\"middle\" x=\"986.5\" y=\"-513.8\" font-family=\"Times New Roman,serif\" font-size=\"14.00\">gini = 0.131</text>\r\n",
       "<text text-anchor=\"middle\" x=\"986.5\" y=\"-498.8\" font-family=\"Times New Roman,serif\" font-size=\"14.00\">samples = 10912</text>\r\n",
       "<text text-anchor=\"middle\" x=\"986.5\" y=\"-483.8\" font-family=\"Times New Roman,serif\" font-size=\"14.00\">value = [10145, 767]</text>\r\n",
       "<text text-anchor=\"middle\" x=\"986.5\" y=\"-468.8\" font-family=\"Times New Roman,serif\" font-size=\"14.00\">class = &lt;=50K</text>\r\n",
       "</g>\r\n",
       "<!-- 2&#45;&gt;3 -->\r\n",
       "<g id=\"edge23\" class=\"edge\"><title>2&#45;&gt;3</title>\r\n",
       "<path fill=\"none\" stroke=\"black\" d=\"M986.5,-579.907C986.5,-571.649 986.5,-562.864 986.5,-554.302\"/>\r\n",
       "<polygon fill=\"black\" stroke=\"black\" points=\"990,-554.021 986.5,-544.021 983,-554.021 990,-554.021\"/>\r\n",
       "</g>\r\n",
       "<!-- 4 -->\r\n",
       "<g id=\"node33\" class=\"node\"><title>4</title>\r\n",
       "<polygon fill=\"#fffdfc\" stroke=\"black\" points=\"1320.5,-544 1200.5,-544 1200.5,-461 1320.5,-461 1320.5,-544\"/>\r\n",
       "<text text-anchor=\"middle\" x=\"1260.5\" y=\"-528.8\" font-family=\"Times New Roman,serif\" font-size=\"14.00\">occupation &lt;= 7.5</text>\r\n",
       "<text text-anchor=\"middle\" x=\"1260.5\" y=\"-513.8\" font-family=\"Times New Roman,serif\" font-size=\"14.00\">gini = 0.5</text>\r\n",
       "<text text-anchor=\"middle\" x=\"1260.5\" y=\"-498.8\" font-family=\"Times New Roman,serif\" font-size=\"14.00\">samples = 924</text>\r\n",
       "<text text-anchor=\"middle\" x=\"1260.5\" y=\"-483.8\" font-family=\"Times New Roman,serif\" font-size=\"14.00\">value = [466, 458]</text>\r\n",
       "<text text-anchor=\"middle\" x=\"1260.5\" y=\"-468.8\" font-family=\"Times New Roman,serif\" font-size=\"14.00\">class = &lt;=50K</text>\r\n",
       "</g>\r\n",
       "<!-- 2&#45;&gt;4 -->\r\n",
       "<g id=\"edge32\" class=\"edge\"><title>2&#45;&gt;4</title>\r\n",
       "<path fill=\"none\" stroke=\"black\" d=\"M1055.64,-590.976C1097.06,-573.291 1149.54,-550.879 1191.02,-533.169\"/>\r\n",
       "<polygon fill=\"black\" stroke=\"black\" points=\"1192.41,-536.381 1200.23,-529.235 1189.66,-529.943 1192.41,-536.381\"/>\r\n",
       "</g>\r\n",
       "<!-- 15 -->\r\n",
       "<g id=\"node25\" class=\"node\"><title>15</title>\r\n",
       "<polygon fill=\"#e89051\" stroke=\"black\" points=\"978,-425 853,-425 853,-342 978,-342 978,-425\"/>\r\n",
       "<text text-anchor=\"middle\" x=\"915.5\" y=\"-409.8\" font-family=\"Times New Roman,serif\" font-size=\"14.00\">occupation &lt;= 7.5</text>\r\n",
       "<text text-anchor=\"middle\" x=\"915.5\" y=\"-394.8\" font-family=\"Times New Roman,serif\" font-size=\"14.00\">gini = 0.193</text>\r\n",
       "<text text-anchor=\"middle\" x=\"915.5\" y=\"-379.8\" font-family=\"Times New Roman,serif\" font-size=\"14.00\">samples = 5183</text>\r\n",
       "<text text-anchor=\"middle\" x=\"915.5\" y=\"-364.8\" font-family=\"Times New Roman,serif\" font-size=\"14.00\">value = [4621, 562]</text>\r\n",
       "<text text-anchor=\"middle\" x=\"915.5\" y=\"-349.8\" font-family=\"Times New Roman,serif\" font-size=\"14.00\">class = &lt;=50K</text>\r\n",
       "</g>\r\n",
       "<!-- 3&#45;&gt;15 -->\r\n",
       "<g id=\"edge24\" class=\"edge\"><title>3&#45;&gt;15</title>\r\n",
       "<path fill=\"none\" stroke=\"black\" d=\"M961.867,-460.907C956.525,-452.105 950.82,-442.703 945.303,-433.612\"/>\r\n",
       "<polygon fill=\"black\" stroke=\"black\" points=\"948.27,-431.754 940.09,-425.021 942.285,-435.386 948.27,-431.754\"/>\r\n",
       "</g>\r\n",
       "<!-- 16 -->\r\n",
       "<g id=\"node32\" class=\"node\"><title>16</title>\r\n",
       "<polygon fill=\"#e68640\" stroke=\"black\" points=\"1121,-417.5 996,-417.5 996,-349.5 1121,-349.5 1121,-417.5\"/>\r\n",
       "<text text-anchor=\"middle\" x=\"1058.5\" y=\"-402.3\" font-family=\"Times New Roman,serif\" font-size=\"14.00\">gini = 0.069</text>\r\n",
       "<text text-anchor=\"middle\" x=\"1058.5\" y=\"-387.3\" font-family=\"Times New Roman,serif\" font-size=\"14.00\">samples = 5729</text>\r\n",
       "<text text-anchor=\"middle\" x=\"1058.5\" y=\"-372.3\" font-family=\"Times New Roman,serif\" font-size=\"14.00\">value = [5524, 205]</text>\r\n",
       "<text text-anchor=\"middle\" x=\"1058.5\" y=\"-357.3\" font-family=\"Times New Roman,serif\" font-size=\"14.00\">class = &lt;=50K</text>\r\n",
       "</g>\r\n",
       "<!-- 3&#45;&gt;16 -->\r\n",
       "<g id=\"edge31\" class=\"edge\"><title>3&#45;&gt;16</title>\r\n",
       "<path fill=\"none\" stroke=\"black\" d=\"M1011.48,-460.907C1018.34,-449.763 1025.79,-437.658 1032.69,-426.439\"/>\r\n",
       "<polygon fill=\"black\" stroke=\"black\" points=\"1035.83,-428.018 1038.09,-417.667 1029.87,-424.349 1035.83,-428.018\"/>\r\n",
       "</g>\r\n",
       "<!-- 29 -->\r\n",
       "<g id=\"node26\" class=\"node\"><title>29</title>\r\n",
       "<polygon fill=\"#e78c4a\" stroke=\"black\" points=\"947,-306 822,-306 822,-223 947,-223 947,-306\"/>\r\n",
       "<text text-anchor=\"middle\" x=\"884.5\" y=\"-290.8\" font-family=\"Times New Roman,serif\" font-size=\"14.00\">occupation &lt;= 2.5</text>\r\n",
       "<text text-anchor=\"middle\" x=\"884.5\" y=\"-275.8\" font-family=\"Times New Roman,serif\" font-size=\"14.00\">gini = 0.145</text>\r\n",
       "<text text-anchor=\"middle\" x=\"884.5\" y=\"-260.8\" font-family=\"Times New Roman,serif\" font-size=\"14.00\">samples = 3294</text>\r\n",
       "<text text-anchor=\"middle\" x=\"884.5\" y=\"-245.8\" font-family=\"Times New Roman,serif\" font-size=\"14.00\">value = [3035, 259]</text>\r\n",
       "<text text-anchor=\"middle\" x=\"884.5\" y=\"-230.8\" font-family=\"Times New Roman,serif\" font-size=\"14.00\">class = &lt;=50K</text>\r\n",
       "</g>\r\n",
       "<!-- 15&#45;&gt;29 -->\r\n",
       "<g id=\"edge25\" class=\"edge\"><title>15&#45;&gt;29</title>\r\n",
       "<path fill=\"none\" stroke=\"black\" d=\"M904.745,-341.907C902.509,-333.468 900.126,-324.477 897.811,-315.738\"/>\r\n",
       "<polygon fill=\"black\" stroke=\"black\" points=\"901.181,-314.791 895.236,-306.021 894.414,-316.584 901.181,-314.791\"/>\r\n",
       "</g>\r\n",
       "<!-- 30 -->\r\n",
       "<g id=\"node31\" class=\"node\"><title>30</title>\r\n",
       "<polygon fill=\"#ea995f\" stroke=\"black\" points=\"1090,-298.5 965,-298.5 965,-230.5 1090,-230.5 1090,-298.5\"/>\r\n",
       "<text text-anchor=\"middle\" x=\"1027.5\" y=\"-283.3\" font-family=\"Times New Roman,serif\" font-size=\"14.00\">gini = 0.269</text>\r\n",
       "<text text-anchor=\"middle\" x=\"1027.5\" y=\"-268.3\" font-family=\"Times New Roman,serif\" font-size=\"14.00\">samples = 1889</text>\r\n",
       "<text text-anchor=\"middle\" x=\"1027.5\" y=\"-253.3\" font-family=\"Times New Roman,serif\" font-size=\"14.00\">value = [1586, 303]</text>\r\n",
       "<text text-anchor=\"middle\" x=\"1027.5\" y=\"-238.3\" font-family=\"Times New Roman,serif\" font-size=\"14.00\">class = &lt;=50K</text>\r\n",
       "</g>\r\n",
       "<!-- 15&#45;&gt;30 -->\r\n",
       "<g id=\"edge30\" class=\"edge\"><title>15&#45;&gt;30</title>\r\n",
       "<path fill=\"none\" stroke=\"black\" d=\"M954.358,-341.907C965.449,-330.321 977.533,-317.698 988.625,-306.111\"/>\r\n",
       "<polygon fill=\"black\" stroke=\"black\" points=\"991.364,-308.311 995.75,-298.667 986.307,-303.47 991.364,-308.311\"/>\r\n",
       "</g>\r\n",
       "<!-- 33 -->\r\n",
       "<g id=\"node27\" class=\"node\"><title>33</title>\r\n",
       "<polygon fill=\"#e89253\" stroke=\"black\" points=\"947,-187 822,-187 822,-104 947,-104 947,-187\"/>\r\n",
       "<text text-anchor=\"middle\" x=\"884.5\" y=\"-171.8\" font-family=\"Times New Roman,serif\" font-size=\"14.00\">occupation &lt;= 1.5</text>\r\n",
       "<text text-anchor=\"middle\" x=\"884.5\" y=\"-156.8\" font-family=\"Times New Roman,serif\" font-size=\"14.00\">gini = 0.206</text>\r\n",
       "<text text-anchor=\"middle\" x=\"884.5\" y=\"-141.8\" font-family=\"Times New Roman,serif\" font-size=\"14.00\">samples = 1984</text>\r\n",
       "<text text-anchor=\"middle\" x=\"884.5\" y=\"-126.8\" font-family=\"Times New Roman,serif\" font-size=\"14.00\">value = [1753, 231]</text>\r\n",
       "<text text-anchor=\"middle\" x=\"884.5\" y=\"-111.8\" font-family=\"Times New Roman,serif\" font-size=\"14.00\">class = &lt;=50K</text>\r\n",
       "</g>\r\n",
       "<!-- 29&#45;&gt;33 -->\r\n",
       "<g id=\"edge26\" class=\"edge\"><title>29&#45;&gt;33</title>\r\n",
       "<path fill=\"none\" stroke=\"black\" d=\"M884.5,-222.907C884.5,-214.649 884.5,-205.864 884.5,-197.302\"/>\r\n",
       "<polygon fill=\"black\" stroke=\"black\" points=\"888,-197.021 884.5,-187.021 881,-197.021 888,-197.021\"/>\r\n",
       "</g>\r\n",
       "<!-- 34 -->\r\n",
       "<g id=\"node30\" class=\"node\"><title>34</title>\r\n",
       "<polygon fill=\"#e6843d\" stroke=\"black\" points=\"1083.5,-179.5 965.5,-179.5 965.5,-111.5 1083.5,-111.5 1083.5,-179.5\"/>\r\n",
       "<text text-anchor=\"middle\" x=\"1024.5\" y=\"-164.3\" font-family=\"Times New Roman,serif\" font-size=\"14.00\">gini = 0.042</text>\r\n",
       "<text text-anchor=\"middle\" x=\"1024.5\" y=\"-149.3\" font-family=\"Times New Roman,serif\" font-size=\"14.00\">samples = 1310</text>\r\n",
       "<text text-anchor=\"middle\" x=\"1024.5\" y=\"-134.3\" font-family=\"Times New Roman,serif\" font-size=\"14.00\">value = [1282, 28]</text>\r\n",
       "<text text-anchor=\"middle\" x=\"1024.5\" y=\"-119.3\" font-family=\"Times New Roman,serif\" font-size=\"14.00\">class = &lt;=50K</text>\r\n",
       "</g>\r\n",
       "<!-- 29&#45;&gt;34 -->\r\n",
       "<g id=\"edge29\" class=\"edge\"><title>29&#45;&gt;34</title>\r\n",
       "<path fill=\"none\" stroke=\"black\" d=\"M933.072,-222.907C947.332,-210.99 962.905,-197.976 977.092,-186.12\"/>\r\n",
       "<polygon fill=\"black\" stroke=\"black\" points=\"979.384,-188.765 984.813,-179.667 974.895,-183.394 979.384,-188.765\"/>\r\n",
       "</g>\r\n",
       "<!-- 35 -->\r\n",
       "<g id=\"node28\" class=\"node\"><title>35</title>\r\n",
       "<polygon fill=\"#e78945\" stroke=\"black\" points=\"941.5,-68 823.5,-68 823.5,-0 941.5,-0 941.5,-68\"/>\r\n",
       "<text text-anchor=\"middle\" x=\"882.5\" y=\"-52.8\" font-family=\"Times New Roman,serif\" font-size=\"14.00\">gini = 0.111</text>\r\n",
       "<text text-anchor=\"middle\" x=\"882.5\" y=\"-37.8\" font-family=\"Times New Roman,serif\" font-size=\"14.00\">samples = 1320</text>\r\n",
       "<text text-anchor=\"middle\" x=\"882.5\" y=\"-22.8\" font-family=\"Times New Roman,serif\" font-size=\"14.00\">value = [1242, 78]</text>\r\n",
       "<text text-anchor=\"middle\" x=\"882.5\" y=\"-7.8\" font-family=\"Times New Roman,serif\" font-size=\"14.00\">class = &lt;=50K</text>\r\n",
       "</g>\r\n",
       "<!-- 33&#45;&gt;35 -->\r\n",
       "<g id=\"edge27\" class=\"edge\"><title>33&#45;&gt;35</title>\r\n",
       "<path fill=\"none\" stroke=\"black\" d=\"M883.755,-103.726C883.605,-95.5175 883.447,-86.8595 883.296,-78.56\"/>\r\n",
       "<polygon fill=\"black\" stroke=\"black\" points=\"886.79,-78.234 883.108,-68.2996 879.792,-78.3619 886.79,-78.234\"/>\r\n",
       "</g>\r\n",
       "<!-- 36 -->\r\n",
       "<g id=\"node29\" class=\"node\"><title>36</title>\r\n",
       "<polygon fill=\"#eda774\" stroke=\"black\" points=\"1077.5,-68 959.5,-68 959.5,-0 1077.5,-0 1077.5,-68\"/>\r\n",
       "<text text-anchor=\"middle\" x=\"1018.5\" y=\"-52.8\" font-family=\"Times New Roman,serif\" font-size=\"14.00\">gini = 0.355</text>\r\n",
       "<text text-anchor=\"middle\" x=\"1018.5\" y=\"-37.8\" font-family=\"Times New Roman,serif\" font-size=\"14.00\">samples = 664</text>\r\n",
       "<text text-anchor=\"middle\" x=\"1018.5\" y=\"-22.8\" font-family=\"Times New Roman,serif\" font-size=\"14.00\">value = [511, 153]</text>\r\n",
       "<text text-anchor=\"middle\" x=\"1018.5\" y=\"-7.8\" font-family=\"Times New Roman,serif\" font-size=\"14.00\">class = &lt;=50K</text>\r\n",
       "</g>\r\n",
       "<!-- 33&#45;&gt;36 -->\r\n",
       "<g id=\"edge28\" class=\"edge\"><title>33&#45;&gt;36</title>\r\n",
       "<path fill=\"none\" stroke=\"black\" d=\"M934.397,-103.726C946.005,-94.2406 958.347,-84.1551 969.898,-74.7159\"/>\r\n",
       "<polygon fill=\"black\" stroke=\"black\" points=\"972.221,-77.3375 977.75,-68.2996 967.792,-71.9171 972.221,-77.3375\"/>\r\n",
       "</g>\r\n",
       "<!-- 21 -->\r\n",
       "<g id=\"node34\" class=\"node\"><title>21</title>\r\n",
       "<polygon fill=\"#f8dcc8\" stroke=\"black\" points=\"1320.5,-425 1200.5,-425 1200.5,-342 1320.5,-342 1320.5,-425\"/>\r\n",
       "<text text-anchor=\"middle\" x=\"1260.5\" y=\"-409.8\" font-family=\"Times New Roman,serif\" font-size=\"14.00\">occupation &lt;= 2.5</text>\r\n",
       "<text text-anchor=\"middle\" x=\"1260.5\" y=\"-394.8\" font-family=\"Times New Roman,serif\" font-size=\"14.00\">gini = 0.487</text>\r\n",
       "<text text-anchor=\"middle\" x=\"1260.5\" y=\"-379.8\" font-family=\"Times New Roman,serif\" font-size=\"14.00\">samples = 593</text>\r\n",
       "<text text-anchor=\"middle\" x=\"1260.5\" y=\"-364.8\" font-family=\"Times New Roman,serif\" font-size=\"14.00\">value = [344, 249]</text>\r\n",
       "<text text-anchor=\"middle\" x=\"1260.5\" y=\"-349.8\" font-family=\"Times New Roman,serif\" font-size=\"14.00\">class = &lt;=50K</text>\r\n",
       "</g>\r\n",
       "<!-- 4&#45;&gt;21 -->\r\n",
       "<g id=\"edge33\" class=\"edge\"><title>4&#45;&gt;21</title>\r\n",
       "<path fill=\"none\" stroke=\"black\" d=\"M1260.5,-460.907C1260.5,-452.649 1260.5,-443.864 1260.5,-435.302\"/>\r\n",
       "<polygon fill=\"black\" stroke=\"black\" points=\"1264,-435.021 1260.5,-425.021 1257,-435.021 1264,-435.021\"/>\r\n",
       "</g>\r\n",
       "<!-- 22 -->\r\n",
       "<g id=\"node37\" class=\"node\"><title>22</title>\r\n",
       "<polygon fill=\"#add6f4\" stroke=\"black\" points=\"1489.5,-425 1369.5,-425 1369.5,-342 1489.5,-342 1489.5,-425\"/>\r\n",
       "<text text-anchor=\"middle\" x=\"1429.5\" y=\"-409.8\" font-family=\"Times New Roman,serif\" font-size=\"14.00\">occupation &lt;= 8.5</text>\r\n",
       "<text text-anchor=\"middle\" x=\"1429.5\" y=\"-394.8\" font-family=\"Times New Roman,serif\" font-size=\"14.00\">gini = 0.465</text>\r\n",
       "<text text-anchor=\"middle\" x=\"1429.5\" y=\"-379.8\" font-family=\"Times New Roman,serif\" font-size=\"14.00\">samples = 331</text>\r\n",
       "<text text-anchor=\"middle\" x=\"1429.5\" y=\"-364.8\" font-family=\"Times New Roman,serif\" font-size=\"14.00\">value = [122, 209]</text>\r\n",
       "<text text-anchor=\"middle\" x=\"1429.5\" y=\"-349.8\" font-family=\"Times New Roman,serif\" font-size=\"14.00\">class = &gt;50K</text>\r\n",
       "</g>\r\n",
       "<!-- 4&#45;&gt;22 -->\r\n",
       "<g id=\"edge36\" class=\"edge\"><title>4&#45;&gt;22</title>\r\n",
       "<path fill=\"none\" stroke=\"black\" d=\"M1319.13,-460.907C1333.16,-451.197 1348.24,-440.758 1362.61,-430.811\"/>\r\n",
       "<polygon fill=\"black\" stroke=\"black\" points=\"1364.74,-433.591 1370.97,-425.021 1360.76,-427.835 1364.74,-433.591\"/>\r\n",
       "</g>\r\n",
       "<!-- 23 -->\r\n",
       "<g id=\"node35\" class=\"node\"><title>23</title>\r\n",
       "<polygon fill=\"#deeefb\" stroke=\"black\" points=\"1226.5,-298.5 1108.5,-298.5 1108.5,-230.5 1226.5,-230.5 1226.5,-298.5\"/>\r\n",
       "<text text-anchor=\"middle\" x=\"1167.5\" y=\"-283.3\" font-family=\"Times New Roman,serif\" font-size=\"14.00\">gini = 0.496</text>\r\n",
       "<text text-anchor=\"middle\" x=\"1167.5\" y=\"-268.3\" font-family=\"Times New Roman,serif\" font-size=\"14.00\">samples = 401</text>\r\n",
       "<text text-anchor=\"middle\" x=\"1167.5\" y=\"-253.3\" font-family=\"Times New Roman,serif\" font-size=\"14.00\">value = [182, 219]</text>\r\n",
       "<text text-anchor=\"middle\" x=\"1167.5\" y=\"-238.3\" font-family=\"Times New Roman,serif\" font-size=\"14.00\">class = &gt;50K</text>\r\n",
       "</g>\r\n",
       "<!-- 21&#45;&gt;23 -->\r\n",
       "<g id=\"edge34\" class=\"edge\"><title>21&#45;&gt;23</title>\r\n",
       "<path fill=\"none\" stroke=\"black\" d=\"M1228.23,-341.907C1219.2,-330.542 1209.37,-318.178 1200.31,-306.774\"/>\r\n",
       "<polygon fill=\"black\" stroke=\"black\" points=\"1202.83,-304.317 1193.86,-298.667 1197.35,-308.673 1202.83,-304.317\"/>\r\n",
       "</g>\r\n",
       "<!-- 24 -->\r\n",
       "<g id=\"node36\" class=\"node\"><title>24</title>\r\n",
       "<polygon fill=\"#ea985e\" stroke=\"black\" points=\"1356,-298.5 1245,-298.5 1245,-230.5 1356,-230.5 1356,-298.5\"/>\r\n",
       "<text text-anchor=\"middle\" x=\"1300.5\" y=\"-283.3\" font-family=\"Times New Roman,serif\" font-size=\"14.00\">gini = 0.264</text>\r\n",
       "<text text-anchor=\"middle\" x=\"1300.5\" y=\"-268.3\" font-family=\"Times New Roman,serif\" font-size=\"14.00\">samples = 192</text>\r\n",
       "<text text-anchor=\"middle\" x=\"1300.5\" y=\"-253.3\" font-family=\"Times New Roman,serif\" font-size=\"14.00\">value = [162, 30]</text>\r\n",
       "<text text-anchor=\"middle\" x=\"1300.5\" y=\"-238.3\" font-family=\"Times New Roman,serif\" font-size=\"14.00\">class = &lt;=50K</text>\r\n",
       "</g>\r\n",
       "<!-- 21&#45;&gt;24 -->\r\n",
       "<g id=\"edge35\" class=\"edge\"><title>21&#45;&gt;24</title>\r\n",
       "<path fill=\"none\" stroke=\"black\" d=\"M1274.38,-341.907C1278.07,-331.094 1282.08,-319.376 1285.82,-308.441\"/>\r\n",
       "<polygon fill=\"black\" stroke=\"black\" points=\"1289.24,-309.261 1289.16,-298.667 1282.61,-306.997 1289.24,-309.261\"/>\r\n",
       "</g>\r\n",
       "<!-- 37 -->\r\n",
       "<g id=\"node38\" class=\"node\"><title>37</title>\r\n",
       "<polygon fill=\"#7ebfee\" stroke=\"black\" points=\"1485,-298.5 1374,-298.5 1374,-230.5 1485,-230.5 1485,-298.5\"/>\r\n",
       "<text text-anchor=\"middle\" x=\"1429.5\" y=\"-283.3\" font-family=\"Times New Roman,serif\" font-size=\"14.00\">gini = 0.383</text>\r\n",
       "<text text-anchor=\"middle\" x=\"1429.5\" y=\"-268.3\" font-family=\"Times New Roman,serif\" font-size=\"14.00\">samples = 194</text>\r\n",
       "<text text-anchor=\"middle\" x=\"1429.5\" y=\"-253.3\" font-family=\"Times New Roman,serif\" font-size=\"14.00\">value = [50, 144]</text>\r\n",
       "<text text-anchor=\"middle\" x=\"1429.5\" y=\"-238.3\" font-family=\"Times New Roman,serif\" font-size=\"14.00\">class = &gt;50K</text>\r\n",
       "</g>\r\n",
       "<!-- 22&#45;&gt;37 -->\r\n",
       "<g id=\"edge37\" class=\"edge\"><title>22&#45;&gt;37</title>\r\n",
       "<path fill=\"none\" stroke=\"black\" d=\"M1429.5,-341.907C1429.5,-331.204 1429.5,-319.615 1429.5,-308.776\"/>\r\n",
       "<polygon fill=\"black\" stroke=\"black\" points=\"1433,-308.667 1429.5,-298.667 1426,-308.667 1433,-308.667\"/>\r\n",
       "</g>\r\n",
       "<!-- 38 -->\r\n",
       "<g id=\"node39\" class=\"node\"><title>38</title>\r\n",
       "<polygon fill=\"#fcf3ec\" stroke=\"black\" points=\"1607.5,-298.5 1503.5,-298.5 1503.5,-230.5 1607.5,-230.5 1607.5,-298.5\"/>\r\n",
       "<text text-anchor=\"middle\" x=\"1555.5\" y=\"-283.3\" font-family=\"Times New Roman,serif\" font-size=\"14.00\">gini = 0.499</text>\r\n",
       "<text text-anchor=\"middle\" x=\"1555.5\" y=\"-268.3\" font-family=\"Times New Roman,serif\" font-size=\"14.00\">samples = 137</text>\r\n",
       "<text text-anchor=\"middle\" x=\"1555.5\" y=\"-253.3\" font-family=\"Times New Roman,serif\" font-size=\"14.00\">value = [72, 65]</text>\r\n",
       "<text text-anchor=\"middle\" x=\"1555.5\" y=\"-238.3\" font-family=\"Times New Roman,serif\" font-size=\"14.00\">class = &lt;=50K</text>\r\n",
       "</g>\r\n",
       "<!-- 22&#45;&gt;38 -->\r\n",
       "<g id=\"edge38\" class=\"edge\"><title>22&#45;&gt;38</title>\r\n",
       "<path fill=\"none\" stroke=\"black\" d=\"M1473.22,-341.907C1485.81,-330.211 1499.55,-317.457 1512.12,-305.78\"/>\r\n",
       "<polygon fill=\"black\" stroke=\"black\" points=\"1514.84,-308.036 1519.78,-298.667 1510.07,-302.907 1514.84,-308.036\"/>\r\n",
       "</g>\r\n",
       "</g>\r\n",
       "</svg>\r\n"
      ],
      "text/plain": [
       "<graphviz.files.Source at 0x1dc1986f9c8>"
      ]
     },
     "execution_count": 119,
     "metadata": {},
     "output_type": "execute_result"
    }
   ],
   "source": [
    "graph"
   ]
  },
  {
   "cell_type": "code",
   "execution_count": null,
   "metadata": {},
   "outputs": [],
   "source": []
  },
  {
   "cell_type": "markdown",
   "metadata": {},
   "source": [
    "\n",
    "## Prediction on Test Set "
   ]
  },
  {
   "cell_type": "code",
   "execution_count": 120,
   "metadata": {},
   "outputs": [],
   "source": [
    "predictions = IncomeClassifier.predict(X_test)"
   ]
  },
  {
   "cell_type": "code",
   "execution_count": 121,
   "metadata": {},
   "outputs": [
    {
     "data": {
      "text/plain": [
       "array([1, 0, 0, 0, 0, 1, 0, 0, 0, 0, 0, 0, 0, 0, 0, 0, 0, 0, 0, 0])"
      ]
     },
     "execution_count": 121,
     "metadata": {},
     "output_type": "execute_result"
    }
   ],
   "source": [
    "predictions[-20:]"
   ]
  },
  {
   "cell_type": "code",
   "execution_count": 122,
   "metadata": {
    "scrolled": false
   },
   "outputs": [
    {
     "data": {
      "text/plain": [
       "3322     0\n",
       "31131    0\n",
       "19679    0\n",
       "8480     0\n",
       "9506     0\n",
       "23265    1\n",
       "17814    0\n",
       "7524     0\n",
       "24188    0\n",
       "18555    0\n",
       "994      1\n",
       "2116     0\n",
       "22198    0\n",
       "6641     0\n",
       "27912    0\n",
       "5270     0\n",
       "27457    1\n",
       "28073    0\n",
       "6593     0\n",
       "18715    0\n",
       "Name: Salary, dtype: int32"
      ]
     },
     "execution_count": 122,
     "metadata": {},
     "output_type": "execute_result"
    }
   ],
   "source": [
    "y_test['Salary'][-20:]"
   ]
  },
  {
   "cell_type": "markdown",
   "metadata": {},
   "source": [
    "## Measure of accuracy"
   ]
  },
  {
   "cell_type": "code",
   "execution_count": 123,
   "metadata": {},
   "outputs": [
    {
     "data": {
      "text/plain": [
       "0.820303853506389"
      ]
     },
     "execution_count": 123,
     "metadata": {},
     "output_type": "execute_result"
    }
   ],
   "source": [
    "accuracy_score(y_true = y_test,\n",
    "               y_pred = predictions)"
   ]
  },
  {
   "cell_type": "code",
   "execution_count": null,
   "metadata": {},
   "outputs": [],
   "source": []
  }
 ],
 "metadata": {
  "kernelspec": {
   "display_name": "Python 3",
   "language": "python",
   "name": "python3"
  },
  "language_info": {
   "codemirror_mode": {
    "name": "ipython",
    "version": 3
   },
   "file_extension": ".py",
   "mimetype": "text/x-python",
   "name": "python",
   "nbconvert_exporter": "python",
   "pygments_lexer": "ipython3",
   "version": "3.7.4"
  }
 },
 "nbformat": 4,
 "nbformat_minor": 2
}
